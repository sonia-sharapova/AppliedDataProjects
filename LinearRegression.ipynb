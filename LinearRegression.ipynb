{
  "nbformat": 4,
  "nbformat_minor": 0,
  "metadata": {
    "colab": {
      "provenance": []
    },
    "kernelspec": {
      "name": "python3",
      "display_name": "Python 3"
    },
    "language_info": {
      "name": "python"
    }
  },
  "cells": [
    {
      "cell_type": "markdown",
      "source": [
        "# Linear Regression"
      ],
      "metadata": {
        "id": "vysCnQvXl7Co"
      }
    },
    {
      "cell_type": "code",
      "source": [
        "from IPython.core.interactiveshell import InteractiveShell\n",
        "InteractiveShell.ast_node_interactivity = \"all\""
      ],
      "metadata": {
        "id": "y45XxM2ZDxqd"
      },
      "execution_count": 1,
      "outputs": []
    },
    {
      "cell_type": "code",
      "source": [
        "import pandas as pd\n",
        "import statsmodels.formula.api as smf # multiple linear regression"
      ],
      "metadata": {
        "id": "VVVq-owuGopD"
      },
      "execution_count": 2,
      "outputs": []
    },
    {
      "cell_type": "code",
      "source": [
        "# Load the data\n",
        "url = 'https://raw.githubusercontent.com/dsahota-applied-data-analysis/data/main/Carseats.csv'\n",
        "\n",
        "carseat_data = pd.read_csv(url)\n",
        "carseat_data.info()"
      ],
      "metadata": {
        "colab": {
          "base_uri": "https://localhost:8080/"
        },
        "id": "n6jMOkD6D3v6",
        "outputId": "7d90fe5c-054b-4de0-f25f-260165cfc653"
      },
      "execution_count": 3,
      "outputs": [
        {
          "output_type": "stream",
          "name": "stdout",
          "text": [
            "<class 'pandas.core.frame.DataFrame'>\n",
            "RangeIndex: 400 entries, 0 to 399\n",
            "Data columns (total 12 columns):\n",
            " #   Column       Non-Null Count  Dtype  \n",
            "---  ------       --------------  -----  \n",
            " 0   Unnamed: 0   400 non-null    int64  \n",
            " 1   Sales        400 non-null    float64\n",
            " 2   CompPrice    400 non-null    int64  \n",
            " 3   Income       400 non-null    int64  \n",
            " 4   Advertising  400 non-null    int64  \n",
            " 5   Population   400 non-null    int64  \n",
            " 6   Price        400 non-null    int64  \n",
            " 7   ShelveLoc    400 non-null    object \n",
            " 8   Age          400 non-null    int64  \n",
            " 9   Education    400 non-null    int64  \n",
            " 10  Urban        400 non-null    object \n",
            " 11  US           400 non-null    object \n",
            "dtypes: float64(1), int64(8), object(3)\n",
            "memory usage: 37.6+ KB\n"
          ]
        }
      ]
    },
    {
      "cell_type": "code",
      "source": [
        "carseat_data.head()"
      ],
      "metadata": {
        "colab": {
          "base_uri": "https://localhost:8080/",
          "height": 206
        },
        "id": "dNjREuhdDfr2",
        "outputId": "76c7af86-c099-4242-9980-a963cde6336b"
      },
      "execution_count": 4,
      "outputs": [
        {
          "output_type": "execute_result",
          "data": {
            "text/plain": [
              "   Unnamed: 0  Sales  CompPrice  Income  Advertising  Population  Price  \\\n",
              "0           1   9.50        138      73           11         276    120   \n",
              "1           2  11.22        111      48           16         260     83   \n",
              "2           3  10.06        113      35           10         269     80   \n",
              "3           4   7.40        117     100            4         466     97   \n",
              "4           5   4.15        141      64            3         340    128   \n",
              "\n",
              "  ShelveLoc  Age  Education Urban   US  \n",
              "0       Bad   42         17   Yes  Yes  \n",
              "1      Good   65         10   Yes  Yes  \n",
              "2    Medium   59         12   Yes  Yes  \n",
              "3    Medium   55         14   Yes  Yes  \n",
              "4       Bad   38         13   Yes   No  "
            ],
            "text/html": [
              "\n",
              "  <div id=\"df-65b8eda0-3924-439d-bd20-d3c9a7445692\" class=\"colab-df-container\">\n",
              "    <div>\n",
              "<style scoped>\n",
              "    .dataframe tbody tr th:only-of-type {\n",
              "        vertical-align: middle;\n",
              "    }\n",
              "\n",
              "    .dataframe tbody tr th {\n",
              "        vertical-align: top;\n",
              "    }\n",
              "\n",
              "    .dataframe thead th {\n",
              "        text-align: right;\n",
              "    }\n",
              "</style>\n",
              "<table border=\"1\" class=\"dataframe\">\n",
              "  <thead>\n",
              "    <tr style=\"text-align: right;\">\n",
              "      <th></th>\n",
              "      <th>Unnamed: 0</th>\n",
              "      <th>Sales</th>\n",
              "      <th>CompPrice</th>\n",
              "      <th>Income</th>\n",
              "      <th>Advertising</th>\n",
              "      <th>Population</th>\n",
              "      <th>Price</th>\n",
              "      <th>ShelveLoc</th>\n",
              "      <th>Age</th>\n",
              "      <th>Education</th>\n",
              "      <th>Urban</th>\n",
              "      <th>US</th>\n",
              "    </tr>\n",
              "  </thead>\n",
              "  <tbody>\n",
              "    <tr>\n",
              "      <th>0</th>\n",
              "      <td>1</td>\n",
              "      <td>9.50</td>\n",
              "      <td>138</td>\n",
              "      <td>73</td>\n",
              "      <td>11</td>\n",
              "      <td>276</td>\n",
              "      <td>120</td>\n",
              "      <td>Bad</td>\n",
              "      <td>42</td>\n",
              "      <td>17</td>\n",
              "      <td>Yes</td>\n",
              "      <td>Yes</td>\n",
              "    </tr>\n",
              "    <tr>\n",
              "      <th>1</th>\n",
              "      <td>2</td>\n",
              "      <td>11.22</td>\n",
              "      <td>111</td>\n",
              "      <td>48</td>\n",
              "      <td>16</td>\n",
              "      <td>260</td>\n",
              "      <td>83</td>\n",
              "      <td>Good</td>\n",
              "      <td>65</td>\n",
              "      <td>10</td>\n",
              "      <td>Yes</td>\n",
              "      <td>Yes</td>\n",
              "    </tr>\n",
              "    <tr>\n",
              "      <th>2</th>\n",
              "      <td>3</td>\n",
              "      <td>10.06</td>\n",
              "      <td>113</td>\n",
              "      <td>35</td>\n",
              "      <td>10</td>\n",
              "      <td>269</td>\n",
              "      <td>80</td>\n",
              "      <td>Medium</td>\n",
              "      <td>59</td>\n",
              "      <td>12</td>\n",
              "      <td>Yes</td>\n",
              "      <td>Yes</td>\n",
              "    </tr>\n",
              "    <tr>\n",
              "      <th>3</th>\n",
              "      <td>4</td>\n",
              "      <td>7.40</td>\n",
              "      <td>117</td>\n",
              "      <td>100</td>\n",
              "      <td>4</td>\n",
              "      <td>466</td>\n",
              "      <td>97</td>\n",
              "      <td>Medium</td>\n",
              "      <td>55</td>\n",
              "      <td>14</td>\n",
              "      <td>Yes</td>\n",
              "      <td>Yes</td>\n",
              "    </tr>\n",
              "    <tr>\n",
              "      <th>4</th>\n",
              "      <td>5</td>\n",
              "      <td>4.15</td>\n",
              "      <td>141</td>\n",
              "      <td>64</td>\n",
              "      <td>3</td>\n",
              "      <td>340</td>\n",
              "      <td>128</td>\n",
              "      <td>Bad</td>\n",
              "      <td>38</td>\n",
              "      <td>13</td>\n",
              "      <td>Yes</td>\n",
              "      <td>No</td>\n",
              "    </tr>\n",
              "  </tbody>\n",
              "</table>\n",
              "</div>\n",
              "    <div class=\"colab-df-buttons\">\n",
              "\n",
              "  <div class=\"colab-df-container\">\n",
              "    <button class=\"colab-df-convert\" onclick=\"convertToInteractive('df-65b8eda0-3924-439d-bd20-d3c9a7445692')\"\n",
              "            title=\"Convert this dataframe to an interactive table.\"\n",
              "            style=\"display:none;\">\n",
              "\n",
              "  <svg xmlns=\"http://www.w3.org/2000/svg\" height=\"24px\" viewBox=\"0 -960 960 960\">\n",
              "    <path d=\"M120-120v-720h720v720H120Zm60-500h600v-160H180v160Zm220 220h160v-160H400v160Zm0 220h160v-160H400v160ZM180-400h160v-160H180v160Zm440 0h160v-160H620v160ZM180-180h160v-160H180v160Zm440 0h160v-160H620v160Z\"/>\n",
              "  </svg>\n",
              "    </button>\n",
              "\n",
              "  <style>\n",
              "    .colab-df-container {\n",
              "      display:flex;\n",
              "      gap: 12px;\n",
              "    }\n",
              "\n",
              "    .colab-df-convert {\n",
              "      background-color: #E8F0FE;\n",
              "      border: none;\n",
              "      border-radius: 50%;\n",
              "      cursor: pointer;\n",
              "      display: none;\n",
              "      fill: #1967D2;\n",
              "      height: 32px;\n",
              "      padding: 0 0 0 0;\n",
              "      width: 32px;\n",
              "    }\n",
              "\n",
              "    .colab-df-convert:hover {\n",
              "      background-color: #E2EBFA;\n",
              "      box-shadow: 0px 1px 2px rgba(60, 64, 67, 0.3), 0px 1px 3px 1px rgba(60, 64, 67, 0.15);\n",
              "      fill: #174EA6;\n",
              "    }\n",
              "\n",
              "    .colab-df-buttons div {\n",
              "      margin-bottom: 4px;\n",
              "    }\n",
              "\n",
              "    [theme=dark] .colab-df-convert {\n",
              "      background-color: #3B4455;\n",
              "      fill: #D2E3FC;\n",
              "    }\n",
              "\n",
              "    [theme=dark] .colab-df-convert:hover {\n",
              "      background-color: #434B5C;\n",
              "      box-shadow: 0px 1px 3px 1px rgba(0, 0, 0, 0.15);\n",
              "      filter: drop-shadow(0px 1px 2px rgba(0, 0, 0, 0.3));\n",
              "      fill: #FFFFFF;\n",
              "    }\n",
              "  </style>\n",
              "\n",
              "    <script>\n",
              "      const buttonEl =\n",
              "        document.querySelector('#df-65b8eda0-3924-439d-bd20-d3c9a7445692 button.colab-df-convert');\n",
              "      buttonEl.style.display =\n",
              "        google.colab.kernel.accessAllowed ? 'block' : 'none';\n",
              "\n",
              "      async function convertToInteractive(key) {\n",
              "        const element = document.querySelector('#df-65b8eda0-3924-439d-bd20-d3c9a7445692');\n",
              "        const dataTable =\n",
              "          await google.colab.kernel.invokeFunction('convertToInteractive',\n",
              "                                                    [key], {});\n",
              "        if (!dataTable) return;\n",
              "\n",
              "        const docLinkHtml = 'Like what you see? Visit the ' +\n",
              "          '<a target=\"_blank\" href=https://colab.research.google.com/notebooks/data_table.ipynb>data table notebook</a>'\n",
              "          + ' to learn more about interactive tables.';\n",
              "        element.innerHTML = '';\n",
              "        dataTable['output_type'] = 'display_data';\n",
              "        await google.colab.output.renderOutput(dataTable, element);\n",
              "        const docLink = document.createElement('div');\n",
              "        docLink.innerHTML = docLinkHtml;\n",
              "        element.appendChild(docLink);\n",
              "      }\n",
              "    </script>\n",
              "  </div>\n",
              "\n",
              "\n",
              "<div id=\"df-88769ba9-33d9-4e9d-b9af-a5b493ca6cb2\">\n",
              "  <button class=\"colab-df-quickchart\" onclick=\"quickchart('df-88769ba9-33d9-4e9d-b9af-a5b493ca6cb2')\"\n",
              "            title=\"Suggest charts\"\n",
              "            style=\"display:none;\">\n",
              "\n",
              "<svg xmlns=\"http://www.w3.org/2000/svg\" height=\"24px\"viewBox=\"0 0 24 24\"\n",
              "     width=\"24px\">\n",
              "    <g>\n",
              "        <path d=\"M19 3H5c-1.1 0-2 .9-2 2v14c0 1.1.9 2 2 2h14c1.1 0 2-.9 2-2V5c0-1.1-.9-2-2-2zM9 17H7v-7h2v7zm4 0h-2V7h2v10zm4 0h-2v-4h2v4z\"/>\n",
              "    </g>\n",
              "</svg>\n",
              "  </button>\n",
              "\n",
              "<style>\n",
              "  .colab-df-quickchart {\n",
              "      --bg-color: #E8F0FE;\n",
              "      --fill-color: #1967D2;\n",
              "      --hover-bg-color: #E2EBFA;\n",
              "      --hover-fill-color: #174EA6;\n",
              "      --disabled-fill-color: #AAA;\n",
              "      --disabled-bg-color: #DDD;\n",
              "  }\n",
              "\n",
              "  [theme=dark] .colab-df-quickchart {\n",
              "      --bg-color: #3B4455;\n",
              "      --fill-color: #D2E3FC;\n",
              "      --hover-bg-color: #434B5C;\n",
              "      --hover-fill-color: #FFFFFF;\n",
              "      --disabled-bg-color: #3B4455;\n",
              "      --disabled-fill-color: #666;\n",
              "  }\n",
              "\n",
              "  .colab-df-quickchart {\n",
              "    background-color: var(--bg-color);\n",
              "    border: none;\n",
              "    border-radius: 50%;\n",
              "    cursor: pointer;\n",
              "    display: none;\n",
              "    fill: var(--fill-color);\n",
              "    height: 32px;\n",
              "    padding: 0;\n",
              "    width: 32px;\n",
              "  }\n",
              "\n",
              "  .colab-df-quickchart:hover {\n",
              "    background-color: var(--hover-bg-color);\n",
              "    box-shadow: 0 1px 2px rgba(60, 64, 67, 0.3), 0 1px 3px 1px rgba(60, 64, 67, 0.15);\n",
              "    fill: var(--button-hover-fill-color);\n",
              "  }\n",
              "\n",
              "  .colab-df-quickchart-complete:disabled,\n",
              "  .colab-df-quickchart-complete:disabled:hover {\n",
              "    background-color: var(--disabled-bg-color);\n",
              "    fill: var(--disabled-fill-color);\n",
              "    box-shadow: none;\n",
              "  }\n",
              "\n",
              "  .colab-df-spinner {\n",
              "    border: 2px solid var(--fill-color);\n",
              "    border-color: transparent;\n",
              "    border-bottom-color: var(--fill-color);\n",
              "    animation:\n",
              "      spin 1s steps(1) infinite;\n",
              "  }\n",
              "\n",
              "  @keyframes spin {\n",
              "    0% {\n",
              "      border-color: transparent;\n",
              "      border-bottom-color: var(--fill-color);\n",
              "      border-left-color: var(--fill-color);\n",
              "    }\n",
              "    20% {\n",
              "      border-color: transparent;\n",
              "      border-left-color: var(--fill-color);\n",
              "      border-top-color: var(--fill-color);\n",
              "    }\n",
              "    30% {\n",
              "      border-color: transparent;\n",
              "      border-left-color: var(--fill-color);\n",
              "      border-top-color: var(--fill-color);\n",
              "      border-right-color: var(--fill-color);\n",
              "    }\n",
              "    40% {\n",
              "      border-color: transparent;\n",
              "      border-right-color: var(--fill-color);\n",
              "      border-top-color: var(--fill-color);\n",
              "    }\n",
              "    60% {\n",
              "      border-color: transparent;\n",
              "      border-right-color: var(--fill-color);\n",
              "    }\n",
              "    80% {\n",
              "      border-color: transparent;\n",
              "      border-right-color: var(--fill-color);\n",
              "      border-bottom-color: var(--fill-color);\n",
              "    }\n",
              "    90% {\n",
              "      border-color: transparent;\n",
              "      border-bottom-color: var(--fill-color);\n",
              "    }\n",
              "  }\n",
              "</style>\n",
              "\n",
              "  <script>\n",
              "    async function quickchart(key) {\n",
              "      const quickchartButtonEl =\n",
              "        document.querySelector('#' + key + ' button');\n",
              "      quickchartButtonEl.disabled = true;  // To prevent multiple clicks.\n",
              "      quickchartButtonEl.classList.add('colab-df-spinner');\n",
              "      try {\n",
              "        const charts = await google.colab.kernel.invokeFunction(\n",
              "            'suggestCharts', [key], {});\n",
              "      } catch (error) {\n",
              "        console.error('Error during call to suggestCharts:', error);\n",
              "      }\n",
              "      quickchartButtonEl.classList.remove('colab-df-spinner');\n",
              "      quickchartButtonEl.classList.add('colab-df-quickchart-complete');\n",
              "    }\n",
              "    (() => {\n",
              "      let quickchartButtonEl =\n",
              "        document.querySelector('#df-88769ba9-33d9-4e9d-b9af-a5b493ca6cb2 button');\n",
              "      quickchartButtonEl.style.display =\n",
              "        google.colab.kernel.accessAllowed ? 'block' : 'none';\n",
              "    })();\n",
              "  </script>\n",
              "</div>\n",
              "    </div>\n",
              "  </div>\n"
            ],
            "application/vnd.google.colaboratory.intrinsic+json": {
              "type": "dataframe",
              "variable_name": "carseat_data",
              "summary": "{\n  \"name\": \"carseat_data\",\n  \"rows\": 400,\n  \"fields\": [\n    {\n      \"column\": \"Unnamed: 0\",\n      \"properties\": {\n        \"dtype\": \"number\",\n        \"std\": 115,\n        \"min\": 1,\n        \"max\": 400,\n        \"num_unique_values\": 400,\n        \"samples\": [\n          210,\n          281,\n          34\n        ],\n        \"semantic_type\": \"\",\n        \"description\": \"\"\n      }\n    },\n    {\n      \"column\": \"Sales\",\n      \"properties\": {\n        \"dtype\": \"number\",\n        \"std\": 2.824115048806837,\n        \"min\": 0.0,\n        \"max\": 16.27,\n        \"num_unique_values\": 336,\n        \"samples\": [\n          8.55,\n          7.57,\n          5.99\n        ],\n        \"semantic_type\": \"\",\n        \"description\": \"\"\n      }\n    },\n    {\n      \"column\": \"CompPrice\",\n      \"properties\": {\n        \"dtype\": \"number\",\n        \"std\": 15,\n        \"min\": 77,\n        \"max\": 175,\n        \"num_unique_values\": 73,\n        \"samples\": [\n          141,\n          120,\n          134\n        ],\n        \"semantic_type\": \"\",\n        \"description\": \"\"\n      }\n    },\n    {\n      \"column\": \"Income\",\n      \"properties\": {\n        \"dtype\": \"number\",\n        \"std\": 27,\n        \"min\": 21,\n        \"max\": 120,\n        \"num_unique_values\": 98,\n        \"samples\": [\n          30,\n          103,\n          55\n        ],\n        \"semantic_type\": \"\",\n        \"description\": \"\"\n      }\n    },\n    {\n      \"column\": \"Advertising\",\n      \"properties\": {\n        \"dtype\": \"number\",\n        \"std\": 6,\n        \"min\": 0,\n        \"max\": 29,\n        \"num_unique_values\": 28,\n        \"samples\": [\n          2,\n          29,\n          9\n        ],\n        \"semantic_type\": \"\",\n        \"description\": \"\"\n      }\n    },\n    {\n      \"column\": \"Population\",\n      \"properties\": {\n        \"dtype\": \"number\",\n        \"std\": 147,\n        \"min\": 10,\n        \"max\": 509,\n        \"num_unique_values\": 275,\n        \"samples\": [\n          447,\n          492,\n          467\n        ],\n        \"semantic_type\": \"\",\n        \"description\": \"\"\n      }\n    },\n    {\n      \"column\": \"Price\",\n      \"properties\": {\n        \"dtype\": \"number\",\n        \"std\": 23,\n        \"min\": 24,\n        \"max\": 191,\n        \"num_unique_values\": 101,\n        \"samples\": [\n          64,\n          139,\n          49\n        ],\n        \"semantic_type\": \"\",\n        \"description\": \"\"\n      }\n    },\n    {\n      \"column\": \"ShelveLoc\",\n      \"properties\": {\n        \"dtype\": \"category\",\n        \"num_unique_values\": 3,\n        \"samples\": [\n          \"Bad\",\n          \"Good\",\n          \"Medium\"\n        ],\n        \"semantic_type\": \"\",\n        \"description\": \"\"\n      }\n    },\n    {\n      \"column\": \"Age\",\n      \"properties\": {\n        \"dtype\": \"number\",\n        \"std\": 16,\n        \"min\": 25,\n        \"max\": 80,\n        \"num_unique_values\": 56,\n        \"samples\": [\n          42,\n          78,\n          29\n        ],\n        \"semantic_type\": \"\",\n        \"description\": \"\"\n      }\n    },\n    {\n      \"column\": \"Education\",\n      \"properties\": {\n        \"dtype\": \"number\",\n        \"std\": 2,\n        \"min\": 10,\n        \"max\": 18,\n        \"num_unique_values\": 9,\n        \"samples\": [\n          18,\n          10,\n          16\n        ],\n        \"semantic_type\": \"\",\n        \"description\": \"\"\n      }\n    },\n    {\n      \"column\": \"Urban\",\n      \"properties\": {\n        \"dtype\": \"category\",\n        \"num_unique_values\": 2,\n        \"samples\": [\n          \"No\",\n          \"Yes\"\n        ],\n        \"semantic_type\": \"\",\n        \"description\": \"\"\n      }\n    },\n    {\n      \"column\": \"US\",\n      \"properties\": {\n        \"dtype\": \"category\",\n        \"num_unique_values\": 2,\n        \"samples\": [\n          \"No\",\n          \"Yes\"\n        ],\n        \"semantic_type\": \"\",\n        \"description\": \"\"\n      }\n    }\n  ]\n}"
            }
          },
          "metadata": {},
          "execution_count": 4
        }
      ]
    },
    {
      "cell_type": "markdown",
      "source": [
        "## Question a)\n",
        "#### Fit a multiple regression model to predict Salses using price, Urban, and US"
      ],
      "metadata": {
        "id": "u_XrQTfgEvsR"
      }
    },
    {
      "cell_type": "code",
      "source": [
        "# Using class notebooks as reference\n",
        "sales_est = smf.ols('Sales ~ Price + Urban + US', carseat_data).fit()\n",
        "sales_est.summary().tables[1]"
      ],
      "metadata": {
        "colab": {
          "base_uri": "https://localhost:8080/",
          "height": 126
        },
        "id": "MMUetuaJDvjk",
        "outputId": "c03960db-5567-4ea4-db8a-dc4adc271a93"
      },
      "execution_count": 5,
      "outputs": [
        {
          "output_type": "execute_result",
          "data": {
            "text/plain": [
              "<class 'statsmodels.iolib.table.SimpleTable'>"
            ],
            "text/html": [
              "<table class=\"simpletable\">\n",
              "<tr>\n",
              "        <td></td>          <th>coef</th>     <th>std err</th>      <th>t</th>      <th>P>|t|</th>  <th>[0.025</th>    <th>0.975]</th>  \n",
              "</tr>\n",
              "<tr>\n",
              "  <th>Intercept</th>    <td>   13.0435</td> <td>    0.651</td> <td>   20.036</td> <td> 0.000</td> <td>   11.764</td> <td>   14.323</td>\n",
              "</tr>\n",
              "<tr>\n",
              "  <th>Urban[T.Yes]</th> <td>   -0.0219</td> <td>    0.272</td> <td>   -0.081</td> <td> 0.936</td> <td>   -0.556</td> <td>    0.512</td>\n",
              "</tr>\n",
              "<tr>\n",
              "  <th>US[T.Yes]</th>    <td>    1.2006</td> <td>    0.259</td> <td>    4.635</td> <td> 0.000</td> <td>    0.691</td> <td>    1.710</td>\n",
              "</tr>\n",
              "<tr>\n",
              "  <th>Price</th>        <td>   -0.0545</td> <td>    0.005</td> <td>  -10.389</td> <td> 0.000</td> <td>   -0.065</td> <td>   -0.044</td>\n",
              "</tr>\n",
              "</table>"
            ],
            "text/latex": "\\begin{center}\n\\begin{tabular}{lcccccc}\n\\toprule\n                      & \\textbf{coef} & \\textbf{std err} & \\textbf{t} & \\textbf{P$> |$t$|$} & \\textbf{[0.025} & \\textbf{0.975]}  \\\\\n\\midrule\n\\textbf{Intercept}    &      13.0435  &        0.651     &    20.036  &         0.000        &       11.764    &       14.323     \\\\\n\\textbf{Urban[T.Yes]} &      -0.0219  &        0.272     &    -0.081  &         0.936        &       -0.556    &        0.512     \\\\\n\\textbf{US[T.Yes]}    &       1.2006  &        0.259     &     4.635  &         0.000        &        0.691    &        1.710     \\\\\n\\textbf{Price}        &      -0.0545  &        0.005     &   -10.389  &         0.000        &       -0.065    &       -0.044     \\\\\n\\bottomrule\n\\end{tabular}\n\\end{center}"
          },
          "metadata": {},
          "execution_count": 5
        }
      ]
    },
    {
      "cell_type": "markdown",
      "source": [
        "## Question b)\n",
        "#### Provide an interpretation of each coefficient in the model. Be careful -- some of the variables in the model are qualitative!"
      ],
      "metadata": {
        "id": "GdYXtWkMFtCV"
      }
    },
    {
      "cell_type": "markdown",
      "source": [
        "*Qualitative variables: Urban and US *\n",
        "\n",
        "\n",
        "#### **Intercept Coefficient:** 13.0435\n",
        "This is the expected Sales when all other variables are 0, meaning that we expect to sell 13043 car seats if we do not consider the other variables in the model. This is the \"constant\" of the model.\n",
        "\n",
        "\n",
        "#### **Quantitative: Urban[T.Yes] Coefficient:** -0.0219\n",
        "This indicates the difference between sales when carseats are sold in Urban areas vs. non-Urban areas.\n",
        "Since the sign is negative, this indicates that carseats sold in Urban areas are associated with 0.0219 decrease per unit sale than those in non-Urban areas.\n",
        "\n",
        "\n",
        "#### **Quantitative: US[T.Yes] Coefficient:** 1.2006\n",
        "This indicates the difference in unit sales of carseats in the US vs. outside of the US. The positive coefficient means that carseats in the US are associated with 1.2006 units higher sales than those sold elsewhere.\n",
        "\n",
        "\n",
        "####  **Price Coefficient:**-0.0545\n",
        "This indicates that a one-unit increase in price is associated with a 0.0545 unit (per thousand) decrease in sales of carseats since the sign is negative (sales are in thousands, so 54 unit decrease)\n"
      ],
      "metadata": {
        "id": "uhqd1eBJHHCf"
      }
    },
    {
      "cell_type": "markdown",
      "source": [
        "## Question c)\n",
        "#### Write out the model in equation form, being careful to handle the quantitative variables properly."
      ],
      "metadata": {
        "id": "BcuRHWKWMXJE"
      }
    },
    {
      "cell_type": "markdown",
      "source": [
        "Sales = $β_{0}$ + $β_{1}$ x Price + $β_{2}$ x Urban[Yes] + $β_{3}$ x US[Yes] + ϵ\n",
        "\n",
        "<br>\n",
        "\n",
        "**ϵ** : error term of the model\n",
        "\n",
        "<br>\n",
        "\n",
        "#### **$β_{0}$** : Intercept Coefficient, 13.0435\n",
        "#### **$β_{1}$** : Urban Yes Coefficient, -0.0219\n",
        "#### **$β_{2}$** : US Yes Coefficient, 1.2006\n",
        "#### **$β_{3}$** : Price Coefficient, -0.0545\n",
        "\n",
        "<br>\n",
        "\n",
        "#### For Quantitative variables:\n",
        "#### **Urban[Yes]** : 1 if Urban, 0 otherwise -> Dummy variables\n",
        "#### **US[Yes]** : 1 if in US, 0 otherwise -> Dummy variables\n",
        "\n",
        "<br>\n",
        "\n",
        " Sales = 13.0435 - 0.0219 x Urban[Yes] + 1.2006 x US[Yes] - 0.0545 x Price + ϵ\n",
        "\n",
        "\n",
        " This is the equation for the model. It allows you to predict the sales of carseats based on the Price, Urban statue, and US status. It handles the quantitative variables by assigning them to 1 if they apply, and 0 otherwise."
      ],
      "metadata": {
        "id": "yHkIP2j8J977"
      }
    },
    {
      "cell_type": "markdown",
      "source": [
        "## Question d)\n",
        "#### For which of the predictors can you reject the null hypothesis ${H}_0$ : ${B}_j$ = 0 with a p-value of 0.05?"
      ],
      "metadata": {
        "id": "qYZYuN4BNRrc"
      }
    },
    {
      "cell_type": "markdown",
      "source": [
        "P-Values for each variable (from the data above):\n",
        "\n",
        "#### Urban[T.Yes] : 0.936\n",
        "#### US[T.Yes] : 0.000\n",
        "#### Price : 0.000\n",
        "\n",
        "\n",
        "For Urban: Since the p-value for Urban status is greater than 0.05, we **cannot** reject the null hypothsis ${H}_0$ : ${β}_{Urban}$ = 0. This means that the status of being Urban or non-Urban does not have a statistically significant effect on Sales at the 0.05 significance level.\n",
        "\n",
        "For US: The p-value for US status is 0.0, which is less than the p-value of the null hypothesis. We **can** reject ${H}_0$ : ${β}_{US}$ = 0, meaning that the Sales **are** significantly effected by the carseat sold in the US vs. elsewhere.\n",
        "\n",
        "For Price: The p-value for Price is 0.0, which is less than the p-value of the null hypothsis. Thus, we **can** reject the null hypothsis ${H}_0$ : ${β}_{Price}$ = 0. This means that the Sales **are** significantly effected by the carseat price.\n"
      ],
      "metadata": {
        "id": "GE-0ZxwzNuZi"
      }
    },
    {
      "cell_type": "markdown",
      "source": [
        "## Question e)\n",
        "#### On the basis of your response to the previous question, fit a smaller model that only uses the predictors for which there is evidence of association with the outcome."
      ],
      "metadata": {
        "id": "FH3yhklJQEGT"
      }
    },
    {
      "cell_type": "code",
      "source": [
        "# Only model Price and US since this data has evidence of association\n",
        "\n",
        "sales_est_small = smf.ols('Sales ~ Price + US', carseat_data).fit()"
      ],
      "metadata": {
        "id": "LjclbmmSQ6mn"
      },
      "execution_count": 6,
      "outputs": []
    },
    {
      "cell_type": "markdown",
      "source": [
        "## Question f)\n",
        "#### How well do the models in (a) and (e) fit the data?"
      ],
      "metadata": {
        "id": "50w_EmXnQEJA"
      }
    },
    {
      "cell_type": "markdown",
      "source": [
        "## Model (a)"
      ],
      "metadata": {
        "id": "aFbkYlNjP7jf"
      }
    },
    {
      "cell_type": "code",
      "source": [
        "print(sales_est.summary())\n"
      ],
      "metadata": {
        "colab": {
          "base_uri": "https://localhost:8080/"
        },
        "id": "t7ZneW7ORmLw",
        "outputId": "77dbd4ff-4e02-4abb-82f1-62d3033bb9c8"
      },
      "execution_count": 7,
      "outputs": [
        {
          "output_type": "stream",
          "name": "stdout",
          "text": [
            "                            OLS Regression Results                            \n",
            "==============================================================================\n",
            "Dep. Variable:                  Sales   R-squared:                       0.239\n",
            "Model:                            OLS   Adj. R-squared:                  0.234\n",
            "Method:                 Least Squares   F-statistic:                     41.52\n",
            "Date:                Mon, 08 Apr 2024   Prob (F-statistic):           2.39e-23\n",
            "Time:                        06:28:13   Log-Likelihood:                -927.66\n",
            "No. Observations:                 400   AIC:                             1863.\n",
            "Df Residuals:                     396   BIC:                             1879.\n",
            "Df Model:                           3                                         \n",
            "Covariance Type:            nonrobust                                         \n",
            "================================================================================\n",
            "                   coef    std err          t      P>|t|      [0.025      0.975]\n",
            "--------------------------------------------------------------------------------\n",
            "Intercept       13.0435      0.651     20.036      0.000      11.764      14.323\n",
            "Urban[T.Yes]    -0.0219      0.272     -0.081      0.936      -0.556       0.512\n",
            "US[T.Yes]        1.2006      0.259      4.635      0.000       0.691       1.710\n",
            "Price           -0.0545      0.005    -10.389      0.000      -0.065      -0.044\n",
            "==============================================================================\n",
            "Omnibus:                        0.676   Durbin-Watson:                   1.912\n",
            "Prob(Omnibus):                  0.713   Jarque-Bera (JB):                0.758\n",
            "Skew:                           0.093   Prob(JB):                        0.684\n",
            "Kurtosis:                       2.897   Cond. No.                         628.\n",
            "==============================================================================\n",
            "\n",
            "Notes:\n",
            "[1] Standard Errors assume that the covariance matrix of the errors is correctly specified.\n"
          ]
        }
      ]
    },
    {
      "cell_type": "markdown",
      "source": [
        "## Model (e)"
      ],
      "metadata": {
        "id": "HVUBDEBmQFPU"
      }
    },
    {
      "cell_type": "code",
      "source": [
        "print(sales_est_small.summary())"
      ],
      "metadata": {
        "colab": {
          "base_uri": "https://localhost:8080/"
        },
        "id": "mOh6y6SaUFJl",
        "outputId": "9308069f-5686-4706-81ea-59a0a3c809e4"
      },
      "execution_count": 8,
      "outputs": [
        {
          "output_type": "stream",
          "name": "stdout",
          "text": [
            "                            OLS Regression Results                            \n",
            "==============================================================================\n",
            "Dep. Variable:                  Sales   R-squared:                       0.239\n",
            "Model:                            OLS   Adj. R-squared:                  0.235\n",
            "Method:                 Least Squares   F-statistic:                     62.43\n",
            "Date:                Mon, 08 Apr 2024   Prob (F-statistic):           2.66e-24\n",
            "Time:                        06:28:13   Log-Likelihood:                -927.66\n",
            "No. Observations:                 400   AIC:                             1861.\n",
            "Df Residuals:                     397   BIC:                             1873.\n",
            "Df Model:                           2                                         \n",
            "Covariance Type:            nonrobust                                         \n",
            "==============================================================================\n",
            "                 coef    std err          t      P>|t|      [0.025      0.975]\n",
            "------------------------------------------------------------------------------\n",
            "Intercept     13.0308      0.631     20.652      0.000      11.790      14.271\n",
            "US[T.Yes]      1.1996      0.258      4.641      0.000       0.692       1.708\n",
            "Price         -0.0545      0.005    -10.416      0.000      -0.065      -0.044\n",
            "==============================================================================\n",
            "Omnibus:                        0.666   Durbin-Watson:                   1.912\n",
            "Prob(Omnibus):                  0.717   Jarque-Bera (JB):                0.749\n",
            "Skew:                           0.092   Prob(JB):                        0.688\n",
            "Kurtosis:                       2.895   Cond. No.                         607.\n",
            "==============================================================================\n",
            "\n",
            "Notes:\n",
            "[1] Standard Errors assume that the covariance matrix of the errors is correctly specified.\n"
          ]
        }
      ]
    },
    {
      "cell_type": "markdown",
      "source": [
        "Both models have the same ${R}^2$ value (0.239), which indicates that neither model fits the data well as this value is pretty low.\n",
        "\n",
        " The Adjusted ${R}^2$ is marginally better in the smaller model where Urban status is not used as a predictor (0.235 compareed to original 0.234).\n",
        "\n",
        "Both models are a a poor fit."
      ],
      "metadata": {
        "id": "1an7cPMOTu6F"
      }
    },
    {
      "cell_type": "markdown",
      "source": [
        "## Question g)\n",
        "#### Using the model from (e), obtain 95% confidence intervals for the coefficient(s)."
      ],
      "metadata": {
        "id": "TtopQ8y6QEMs"
      }
    },
    {
      "cell_type": "code",
      "source": [
        "# Reference:\n",
        "# From Slides:\n",
        "# Standard errors can be used to compute confidence intervals.\n",
        "# For linear regression, the 95% confidence interval for β1 is approxmiately: β1^ ±2·SE(β1)"
      ],
      "metadata": {
        "id": "HtmwN31TQtg9"
      },
      "execution_count": 9,
      "outputs": []
    },
    {
      "cell_type": "markdown",
      "source": [
        "#### **For US:**\n",
        "#### ${\\hat{β}}_2$ ±2·SE(${\\hat{β}}_2$) = 1.2006 ± 2(0.259)\n",
        "\n",
        "#### Confidence interval: ~ (0.6826, 1.7186)\n",
        "\n",
        "#### **For Price:**\n",
        "#### ${\\hat{β}}_3$ ±2·SE(${\\hat{β}}_3$) = -0.0545 ± 2(-0.0545)\n",
        "\n",
        "#### Confidence interval: ~ (-0.1635, 0.0545)"
      ],
      "metadata": {
        "id": "2QMeJcXmaw6G"
      }
    },
    {
      "cell_type": "code",
      "source": [
        "# Can also use stats model to find confidence interval\n",
        "# Reference:\n",
        "# https://stackoverflow.com/questions/61292464/get-confidence-interval-from-sklearn-linear-regression-in-python\n",
        "\n",
        "confidence_intervals = sales_est_small.conf_int(alpha=0.05)\n",
        "confidence_intervals"
      ],
      "metadata": {
        "colab": {
          "base_uri": "https://localhost:8080/",
          "height": 143
        },
        "id": "wO67b-qHRX0t",
        "outputId": "86b174cf-55ac-4c9d-fe07-4f3ddac12419"
      },
      "execution_count": 10,
      "outputs": [
        {
          "output_type": "execute_result",
          "data": {
            "text/plain": [
              "                  0          1\n",
              "Intercept  11.79032  14.271265\n",
              "US[T.Yes]   0.69152   1.707766\n",
              "Price      -0.06476  -0.044195"
            ],
            "text/html": [
              "\n",
              "  <div id=\"df-d5198e0d-9ef1-4d4f-a40b-663dff113644\" class=\"colab-df-container\">\n",
              "    <div>\n",
              "<style scoped>\n",
              "    .dataframe tbody tr th:only-of-type {\n",
              "        vertical-align: middle;\n",
              "    }\n",
              "\n",
              "    .dataframe tbody tr th {\n",
              "        vertical-align: top;\n",
              "    }\n",
              "\n",
              "    .dataframe thead th {\n",
              "        text-align: right;\n",
              "    }\n",
              "</style>\n",
              "<table border=\"1\" class=\"dataframe\">\n",
              "  <thead>\n",
              "    <tr style=\"text-align: right;\">\n",
              "      <th></th>\n",
              "      <th>0</th>\n",
              "      <th>1</th>\n",
              "    </tr>\n",
              "  </thead>\n",
              "  <tbody>\n",
              "    <tr>\n",
              "      <th>Intercept</th>\n",
              "      <td>11.79032</td>\n",
              "      <td>14.271265</td>\n",
              "    </tr>\n",
              "    <tr>\n",
              "      <th>US[T.Yes]</th>\n",
              "      <td>0.69152</td>\n",
              "      <td>1.707766</td>\n",
              "    </tr>\n",
              "    <tr>\n",
              "      <th>Price</th>\n",
              "      <td>-0.06476</td>\n",
              "      <td>-0.044195</td>\n",
              "    </tr>\n",
              "  </tbody>\n",
              "</table>\n",
              "</div>\n",
              "    <div class=\"colab-df-buttons\">\n",
              "\n",
              "  <div class=\"colab-df-container\">\n",
              "    <button class=\"colab-df-convert\" onclick=\"convertToInteractive('df-d5198e0d-9ef1-4d4f-a40b-663dff113644')\"\n",
              "            title=\"Convert this dataframe to an interactive table.\"\n",
              "            style=\"display:none;\">\n",
              "\n",
              "  <svg xmlns=\"http://www.w3.org/2000/svg\" height=\"24px\" viewBox=\"0 -960 960 960\">\n",
              "    <path d=\"M120-120v-720h720v720H120Zm60-500h600v-160H180v160Zm220 220h160v-160H400v160Zm0 220h160v-160H400v160ZM180-400h160v-160H180v160Zm440 0h160v-160H620v160ZM180-180h160v-160H180v160Zm440 0h160v-160H620v160Z\"/>\n",
              "  </svg>\n",
              "    </button>\n",
              "\n",
              "  <style>\n",
              "    .colab-df-container {\n",
              "      display:flex;\n",
              "      gap: 12px;\n",
              "    }\n",
              "\n",
              "    .colab-df-convert {\n",
              "      background-color: #E8F0FE;\n",
              "      border: none;\n",
              "      border-radius: 50%;\n",
              "      cursor: pointer;\n",
              "      display: none;\n",
              "      fill: #1967D2;\n",
              "      height: 32px;\n",
              "      padding: 0 0 0 0;\n",
              "      width: 32px;\n",
              "    }\n",
              "\n",
              "    .colab-df-convert:hover {\n",
              "      background-color: #E2EBFA;\n",
              "      box-shadow: 0px 1px 2px rgba(60, 64, 67, 0.3), 0px 1px 3px 1px rgba(60, 64, 67, 0.15);\n",
              "      fill: #174EA6;\n",
              "    }\n",
              "\n",
              "    .colab-df-buttons div {\n",
              "      margin-bottom: 4px;\n",
              "    }\n",
              "\n",
              "    [theme=dark] .colab-df-convert {\n",
              "      background-color: #3B4455;\n",
              "      fill: #D2E3FC;\n",
              "    }\n",
              "\n",
              "    [theme=dark] .colab-df-convert:hover {\n",
              "      background-color: #434B5C;\n",
              "      box-shadow: 0px 1px 3px 1px rgba(0, 0, 0, 0.15);\n",
              "      filter: drop-shadow(0px 1px 2px rgba(0, 0, 0, 0.3));\n",
              "      fill: #FFFFFF;\n",
              "    }\n",
              "  </style>\n",
              "\n",
              "    <script>\n",
              "      const buttonEl =\n",
              "        document.querySelector('#df-d5198e0d-9ef1-4d4f-a40b-663dff113644 button.colab-df-convert');\n",
              "      buttonEl.style.display =\n",
              "        google.colab.kernel.accessAllowed ? 'block' : 'none';\n",
              "\n",
              "      async function convertToInteractive(key) {\n",
              "        const element = document.querySelector('#df-d5198e0d-9ef1-4d4f-a40b-663dff113644');\n",
              "        const dataTable =\n",
              "          await google.colab.kernel.invokeFunction('convertToInteractive',\n",
              "                                                    [key], {});\n",
              "        if (!dataTable) return;\n",
              "\n",
              "        const docLinkHtml = 'Like what you see? Visit the ' +\n",
              "          '<a target=\"_blank\" href=https://colab.research.google.com/notebooks/data_table.ipynb>data table notebook</a>'\n",
              "          + ' to learn more about interactive tables.';\n",
              "        element.innerHTML = '';\n",
              "        dataTable['output_type'] = 'display_data';\n",
              "        await google.colab.output.renderOutput(dataTable, element);\n",
              "        const docLink = document.createElement('div');\n",
              "        docLink.innerHTML = docLinkHtml;\n",
              "        element.appendChild(docLink);\n",
              "      }\n",
              "    </script>\n",
              "  </div>\n",
              "\n",
              "\n",
              "<div id=\"df-ef945cad-ea85-456e-a920-c0e5ca94363b\">\n",
              "  <button class=\"colab-df-quickchart\" onclick=\"quickchart('df-ef945cad-ea85-456e-a920-c0e5ca94363b')\"\n",
              "            title=\"Suggest charts\"\n",
              "            style=\"display:none;\">\n",
              "\n",
              "<svg xmlns=\"http://www.w3.org/2000/svg\" height=\"24px\"viewBox=\"0 0 24 24\"\n",
              "     width=\"24px\">\n",
              "    <g>\n",
              "        <path d=\"M19 3H5c-1.1 0-2 .9-2 2v14c0 1.1.9 2 2 2h14c1.1 0 2-.9 2-2V5c0-1.1-.9-2-2-2zM9 17H7v-7h2v7zm4 0h-2V7h2v10zm4 0h-2v-4h2v4z\"/>\n",
              "    </g>\n",
              "</svg>\n",
              "  </button>\n",
              "\n",
              "<style>\n",
              "  .colab-df-quickchart {\n",
              "      --bg-color: #E8F0FE;\n",
              "      --fill-color: #1967D2;\n",
              "      --hover-bg-color: #E2EBFA;\n",
              "      --hover-fill-color: #174EA6;\n",
              "      --disabled-fill-color: #AAA;\n",
              "      --disabled-bg-color: #DDD;\n",
              "  }\n",
              "\n",
              "  [theme=dark] .colab-df-quickchart {\n",
              "      --bg-color: #3B4455;\n",
              "      --fill-color: #D2E3FC;\n",
              "      --hover-bg-color: #434B5C;\n",
              "      --hover-fill-color: #FFFFFF;\n",
              "      --disabled-bg-color: #3B4455;\n",
              "      --disabled-fill-color: #666;\n",
              "  }\n",
              "\n",
              "  .colab-df-quickchart {\n",
              "    background-color: var(--bg-color);\n",
              "    border: none;\n",
              "    border-radius: 50%;\n",
              "    cursor: pointer;\n",
              "    display: none;\n",
              "    fill: var(--fill-color);\n",
              "    height: 32px;\n",
              "    padding: 0;\n",
              "    width: 32px;\n",
              "  }\n",
              "\n",
              "  .colab-df-quickchart:hover {\n",
              "    background-color: var(--hover-bg-color);\n",
              "    box-shadow: 0 1px 2px rgba(60, 64, 67, 0.3), 0 1px 3px 1px rgba(60, 64, 67, 0.15);\n",
              "    fill: var(--button-hover-fill-color);\n",
              "  }\n",
              "\n",
              "  .colab-df-quickchart-complete:disabled,\n",
              "  .colab-df-quickchart-complete:disabled:hover {\n",
              "    background-color: var(--disabled-bg-color);\n",
              "    fill: var(--disabled-fill-color);\n",
              "    box-shadow: none;\n",
              "  }\n",
              "\n",
              "  .colab-df-spinner {\n",
              "    border: 2px solid var(--fill-color);\n",
              "    border-color: transparent;\n",
              "    border-bottom-color: var(--fill-color);\n",
              "    animation:\n",
              "      spin 1s steps(1) infinite;\n",
              "  }\n",
              "\n",
              "  @keyframes spin {\n",
              "    0% {\n",
              "      border-color: transparent;\n",
              "      border-bottom-color: var(--fill-color);\n",
              "      border-left-color: var(--fill-color);\n",
              "    }\n",
              "    20% {\n",
              "      border-color: transparent;\n",
              "      border-left-color: var(--fill-color);\n",
              "      border-top-color: var(--fill-color);\n",
              "    }\n",
              "    30% {\n",
              "      border-color: transparent;\n",
              "      border-left-color: var(--fill-color);\n",
              "      border-top-color: var(--fill-color);\n",
              "      border-right-color: var(--fill-color);\n",
              "    }\n",
              "    40% {\n",
              "      border-color: transparent;\n",
              "      border-right-color: var(--fill-color);\n",
              "      border-top-color: var(--fill-color);\n",
              "    }\n",
              "    60% {\n",
              "      border-color: transparent;\n",
              "      border-right-color: var(--fill-color);\n",
              "    }\n",
              "    80% {\n",
              "      border-color: transparent;\n",
              "      border-right-color: var(--fill-color);\n",
              "      border-bottom-color: var(--fill-color);\n",
              "    }\n",
              "    90% {\n",
              "      border-color: transparent;\n",
              "      border-bottom-color: var(--fill-color);\n",
              "    }\n",
              "  }\n",
              "</style>\n",
              "\n",
              "  <script>\n",
              "    async function quickchart(key) {\n",
              "      const quickchartButtonEl =\n",
              "        document.querySelector('#' + key + ' button');\n",
              "      quickchartButtonEl.disabled = true;  // To prevent multiple clicks.\n",
              "      quickchartButtonEl.classList.add('colab-df-spinner');\n",
              "      try {\n",
              "        const charts = await google.colab.kernel.invokeFunction(\n",
              "            'suggestCharts', [key], {});\n",
              "      } catch (error) {\n",
              "        console.error('Error during call to suggestCharts:', error);\n",
              "      }\n",
              "      quickchartButtonEl.classList.remove('colab-df-spinner');\n",
              "      quickchartButtonEl.classList.add('colab-df-quickchart-complete');\n",
              "    }\n",
              "    (() => {\n",
              "      let quickchartButtonEl =\n",
              "        document.querySelector('#df-ef945cad-ea85-456e-a920-c0e5ca94363b button');\n",
              "      quickchartButtonEl.style.display =\n",
              "        google.colab.kernel.accessAllowed ? 'block' : 'none';\n",
              "    })();\n",
              "  </script>\n",
              "</div>\n",
              "    </div>\n",
              "  </div>\n"
            ],
            "application/vnd.google.colaboratory.intrinsic+json": {
              "type": "dataframe",
              "variable_name": "confidence_intervals",
              "summary": "{\n  \"name\": \"confidence_intervals\",\n  \"rows\": 3,\n  \"fields\": [\n    {\n      \"column\": 0,\n      \"properties\": {\n        \"dtype\": \"number\",\n        \"std\": 6.63699551085845,\n        \"min\": -0.06475983697504138,\n        \"max\": 11.790320195631207,\n        \"num_unique_values\": 3,\n        \"samples\": [\n          11.790320195631207,\n          0.691519569105356,\n          -0.06475983697504138\n        ],\n        \"semantic_type\": \"\",\n        \"description\": \"\"\n      }\n    },\n    {\n      \"column\": 1,\n      \"properties\": {\n        \"dtype\": \"number\",\n        \"std\": 7.808577476401556,\n        \"min\": -0.04419542798453325,\n        \"max\": 14.271265313600232,\n        \"num_unique_values\": 3,\n        \"samples\": [\n          14.271265313600232,\n          1.7077663173479933,\n          -0.04419542798453325\n        ],\n        \"semantic_type\": \"\",\n        \"description\": \"\"\n      }\n    }\n  ]\n}"
            }
          },
          "metadata": {},
          "execution_count": 10
        }
      ]
    },
    {
      "cell_type": "markdown",
      "source": [
        "A confidence interval of 95% means that there is a 95% probability that the true value of β is in the given interval."
      ],
      "metadata": {
        "id": "jGt88lb-b_G8"
      }
    },
    {
      "cell_type": "markdown",
      "source": [
        "## Question h)\n",
        "#### Is there evidence of outliers or high leverage observations in the model from (e)? If so, please identify the outliers and high-leverage points."
      ],
      "metadata": {
        "id": "JfD1dkeoQm-T"
      }
    },
    {
      "cell_type": "code",
      "source": [
        "info_e = sales_est_small.get_influence().summary_frame() # Get influence measures\n",
        "num_obs = int(info_e.shape[0])\n",
        "\n",
        " # Get metrics of interest\n",
        "\n",
        "''' Studentized residual for outliers '''\n",
        "\n",
        "sr = info_e['student_resid']\n",
        "# Store the outliers\n",
        "outliers = []\n",
        "# Check if any studentized residuals are greater than 3\n",
        "for i, res in enumerate(sr):\n",
        "  if abs(res) > 3:\n",
        "    outliers.append((i, res))\n",
        "    print('Observation ', i,' is an outlier')\n",
        "\n",
        "\n",
        "''' For finding high leverage '''\n",
        "\n",
        "hd = info_e['hat_diag']\n",
        "# Find the 'high' leverage cutoff\n",
        "lev_cutoff = (2*2 + 2)/num_obs\n",
        "\n",
        "print(f'The cutoff for a high leverage is: {lev_cutoff} \\nThe following observations are high leverage points: \\n')\n",
        "# Store the high lev points\n",
        "hlp_list = []\n",
        "for idx, hlp in enumerate(hd):\n",
        "  # Check if the leverage is greater than the cutoff\n",
        "  if hlp > lev_cutoff:\n",
        "    hlp_list.append((idx,hlp))\n",
        "    print('Observation ', idx,'with value {:.4f}'.format(hlp))\n",
        "\n",
        "\n",
        "#print(outliers)\n",
        "print('Number of High Leverage Points: ', len(hlp_list))"
      ],
      "metadata": {
        "colab": {
          "base_uri": "https://localhost:8080/",
          "height": 482
        },
        "id": "QGdLUiZtcLnM",
        "outputId": "469d304a-5dcf-4dda-b371-7eaa6d65d171"
      },
      "execution_count": 11,
      "outputs": [
        {
          "output_type": "execute_result",
          "data": {
            "text/plain": [
              "' Studentized residual for outliers '"
            ],
            "application/vnd.google.colaboratory.intrinsic+json": {
              "type": "string"
            }
          },
          "metadata": {},
          "execution_count": 11
        },
        {
          "output_type": "execute_result",
          "data": {
            "text/plain": [
              "' For finding high leverage '"
            ],
            "application/vnd.google.colaboratory.intrinsic+json": {
              "type": "string"
            }
          },
          "metadata": {},
          "execution_count": 11
        },
        {
          "output_type": "stream",
          "name": "stdout",
          "text": [
            "The cutoff for a high leverage is: 0.015 \n",
            "The following observations are high leverage points: \n",
            "\n",
            "Observation  42 with value 0.0433\n",
            "Observation  125 with value 0.0260\n",
            "Observation  155 with value 0.0161\n",
            "Observation  156 with value 0.0154\n",
            "Observation  159 with value 0.0157\n",
            "Observation  165 with value 0.0286\n",
            "Observation  171 with value 0.0210\n",
            "Observation  174 with value 0.0297\n",
            "Observation  191 with value 0.0180\n",
            "Observation  203 with value 0.0154\n",
            "Observation  208 with value 0.0182\n",
            "Observation  269 with value 0.0192\n",
            "Observation  272 with value 0.0187\n",
            "Observation  313 with value 0.0232\n",
            "Observation  315 with value 0.0170\n",
            "Observation  356 with value 0.0183\n",
            "Observation  365 with value 0.0174\n",
            "Observation  367 with value 0.0237\n",
            "Observation  383 with value 0.0165\n",
            "Observation  386 with value 0.0166\n",
            "Number of High Leverage Points:  20\n"
          ]
        }
      ]
    },
    {
      "cell_type": "markdown",
      "source": [
        "#### None of the observations are considered outliers since there are no observations that had an absolute studentized residual greater than 3.\n",
        "\n",
        "#### 20 of the observations are high leverage points and had a leverage statistic above the computed cut-off."
      ],
      "metadata": {
        "id": "n8_kls7KXYpF"
      }
    },
    {
      "cell_type": "code",
      "source": [],
      "metadata": {
        "id": "eMG0dFNZYCcs"
      },
      "execution_count": 11,
      "outputs": []
    }
  ]
}
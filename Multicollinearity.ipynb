{
  "nbformat": 4,
  "nbformat_minor": 0,
  "metadata": {
    "colab": {
      "provenance": []
    },
    "kernelspec": {
      "name": "python3",
      "display_name": "Python 3"
    },
    "language_info": {
      "name": "python"
    }
  },
  "cells": [
    {
      "cell_type": "markdown",
      "source": [
        "# Multicollinearity"
      ],
      "metadata": {
        "id": "n61xXtGuccOs"
      }
    },
    {
      "cell_type": "markdown",
      "source": [
        "## Question a)\n",
        "Run the following lines in Python:\n"
      ],
      "metadata": {
        "id": "NY3HY6k4G6w1"
      }
    },
    {
      "cell_type": "code",
      "source": [
        "import numpy as np\n",
        "np.random.seed(0)\n",
        "x1 = np.random.uniform(size=100)\n",
        "x2 = 0.5 * x1 + np.random.normal(size=100)/10\n",
        "y = 2 + 2 * x1 + 0.3 * x2 + np.random.normal(size=100)"
      ],
      "metadata": {
        "id": "44epcW6BcrKB"
      },
      "execution_count": 1,
      "outputs": []
    },
    {
      "cell_type": "markdown",
      "source": [
        "The last line corresponds to creating a linear model in which y is a function of x1 and x2. Write out the form of the linear model. What are the regression coefficients?"
      ],
      "metadata": {
        "id": "jVPgBNVpcu7B"
      }
    },
    {
      "cell_type": "markdown",
      "source": [
        "The model is a linear combination and can be written as: \\\\\n",
        "\n",
        "y = 2 + 2${X}_1$ + 0.3${X}_2$ + ϵ\n",
        "\n",
        "The regression coefficients are:\n",
        "*   Intercept: 2\n",
        "*   Coefficient for ${X}_1$: 2\n",
        "*   Coefficient for ${X}_2$: 0.3\n",
        "\n",
        "ϵ is the normally distributed noise.\n"
      ],
      "metadata": {
        "id": "ACXWJfmBcs_8"
      }
    },
    {
      "cell_type": "markdown",
      "source": [
        "## Question b)\n",
        "#### What is the correlation between x1 and x2? Create a scatterplot displaying the relationship between the variables."
      ],
      "metadata": {
        "id": "bntYxf09cd1k"
      }
    },
    {
      "cell_type": "code",
      "source": [
        "# References:\n",
        "# To find correlation: Numpy documentation: https://numpy.org/doc/stable/reference/generated/numpy.corrcoef.html\n",
        "# Making a scatterplot and understanding correlation: https://machinelearningmastery.com/how-to-use-correlation-to-understand-the-relationship-between-variables/\n",
        "# More info on how to read correlation: https://online.stat.psu.edu/stat501/lesson/12/12.3\n",
        "import matplotlib.pyplot as plt\n",
        "\n",
        "np.random.seed(0)\n",
        "\n",
        "# Find correlation between x1 and x2\n",
        "corr = np.corrcoef(x1, x2)\n",
        "print(corr[0][1]) # Index for correlation between x1 and x2\n",
        "\n",
        "# Create a scatterplot\n",
        "plt.scatter(x1, x2)\n",
        "plt.title('Relationship between x1 and x2')\n",
        "plt.xlabel('x1')\n",
        "plt.ylabel('x2')\n",
        "plt.grid(True)\n",
        "plt.show()"
      ],
      "metadata": {
        "colab": {
          "base_uri": "https://localhost:8080/",
          "height": 490
        },
        "id": "1rZ9QXhpfQud",
        "outputId": "f673c002-bd8b-4545-8f5e-d3f7b0b6c06a"
      },
      "execution_count": 2,
      "outputs": [
        {
          "output_type": "stream",
          "name": "stdout",
          "text": [
            "0.8192633558220391\n"
          ]
        },
        {
          "output_type": "display_data",
          "data": {
            "text/plain": [
              "<Figure size 640x480 with 1 Axes>"
            ],
            "image/png": "[encoded data removed]"
          },
          "metadata": {}
        }
      ]
    },
    {
      "cell_type": "markdown",
      "source": [
        "The correlation between ${x}_1$ and ${x}_2$ is ~0.82. This shows that there is a strong positive linear relationship between them, indicating multicollinearity between them.\n",
        "\n",
        "In the scatterplot, you can see the positive linear relationship as well (${x}_1$ increases as ${x}_2$ increases)."
      ],
      "metadata": {
        "id": "9UIbIS2dfZ8j"
      }
    },
    {
      "cell_type": "markdown",
      "source": [
        "## Question c)\n",
        "#### Using this data, fit a least squares regression to predict y using x1 and x2. Describe the results obtained. What are ${\\hat{β}}_0$, ${\\hat{β}}_1$, and ${\\hat{β}}_2$? How do these relate to the true ${β}_0$, ${β}_1$, and ${β}_2$? Can you reject the null hypothesis ${H}_0$ : ${β}_1$ = 0? How about the null hypothesis ${H}_0$ : ${β}_2$ = 0?"
      ],
      "metadata": {
        "id": "0qAXUL6Lcd5b"
      }
    },
    {
      "cell_type": "code",
      "source": [
        "# References:\n",
        "# Create 2-D array by stacking 1-D arrays as columns: https://numpy.org/doc/stable/reference/generated/numpy.column_stack.html\n",
        "# Linear regression on linear equation: https://365datascience.com/tutorials/python-tutorials/linear-regression/\n",
        "\n",
        "import sklearn.linear_model as skl_lm\n",
        "import statsmodels.api as sm\n",
        "\n",
        "# Specify linear regression model\n",
        "#regr = skl_lm.LinearRegression()\n",
        "\n",
        "# Create 2D array for X\n",
        "X_comb = np.column_stack((x1, x2))\n",
        "\n",
        "# Include a constant term (for the intercept)\n",
        "X = sm.add_constant(X_comb)\n",
        "model = sm.OLS(y,X).fit()\n",
        "\n",
        "model.summary()\n"
      ],
      "metadata": {
        "colab": {
          "base_uri": "https://localhost:8080/",
          "height": 473
        },
        "id": "Xvxr3ACnfv7k",
        "outputId": "ab86b67d-8d58-4e9b-dbd6-196ae756359a"
      },
      "execution_count": 3,
      "outputs": [
        {
          "output_type": "execute_result",
          "data": {
            "text/plain": [
              "<class 'statsmodels.iolib.summary.Summary'>\n",
              "\"\"\"\n",
              "                            OLS Regression Results                            \n",
              "==============================================================================\n",
              "Dep. Variable:                      y   R-squared:                       0.261\n",
              "Model:                            OLS   Adj. R-squared:                  0.246\n",
              "Method:                 Least Squares   F-statistic:                     17.16\n",
              "Date:                Mon, 08 Apr 2024   Prob (F-statistic):           4.16e-07\n",
              "Time:                        05:22:45   Log-Likelihood:                -139.04\n",
              "No. Observations:                 100   AIC:                             284.1\n",
              "Df Residuals:                      97   BIC:                             291.9\n",
              "Df Model:                           2                                         \n",
              "Covariance Type:            nonrobust                                         \n",
              "==============================================================================\n",
              "                 coef    std err          t      P>|t|      [0.025      0.975]\n",
              "------------------------------------------------------------------------------\n",
              "const          1.9217      0.191     10.071      0.000       1.543       2.300\n",
              "x1             1.2007      0.597      2.011      0.047       0.016       2.385\n",
              "x2             1.4931      0.991      1.507      0.135      -0.473       3.459\n",
              "==============================================================================\n",
              "Omnibus:                        0.196   Durbin-Watson:                   2.109\n",
              "Prob(Omnibus):                  0.907   Jarque-Bera (JB):                0.026\n",
              "Skew:                           0.032   Prob(JB):                        0.987\n",
              "Kurtosis:                       3.046   Cond. No.                         13.0\n",
              "==============================================================================\n",
              "\n",
              "Notes:\n",
              "[1] Standard Errors assume that the covariance matrix of the errors is correctly specified.\n",
              "\"\"\""
            ],
            "text/html": [
              "<table class=\"simpletable\">\n",
              "<caption>OLS Regression Results</caption>\n",
              "<tr>\n",
              "  <th>Dep. Variable:</th>            <td>y</td>        <th>  R-squared:         </th> <td>   0.261</td>\n",
              "</tr>\n",
              "<tr>\n",
              "  <th>Model:</th>                   <td>OLS</td>       <th>  Adj. R-squared:    </th> <td>   0.246</td>\n",
              "</tr>\n",
              "<tr>\n",
              "  <th>Method:</th>             <td>Least Squares</td>  <th>  F-statistic:       </th> <td>   17.16</td>\n",
              "</tr>\n",
              "<tr>\n",
              "  <th>Date:</th>             <td>Mon, 08 Apr 2024</td> <th>  Prob (F-statistic):</th> <td>4.16e-07</td>\n",
              "</tr>\n",
              "<tr>\n",
              "  <th>Time:</th>                 <td>05:22:45</td>     <th>  Log-Likelihood:    </th> <td> -139.04</td>\n",
              "</tr>\n",
              "<tr>\n",
              "  <th>No. Observations:</th>      <td>   100</td>      <th>  AIC:               </th> <td>   284.1</td>\n",
              "</tr>\n",
              "<tr>\n",
              "  <th>Df Residuals:</th>          <td>    97</td>      <th>  BIC:               </th> <td>   291.9</td>\n",
              "</tr>\n",
              "<tr>\n",
              "  <th>Df Model:</th>              <td>     2</td>      <th>                     </th>     <td> </td>   \n",
              "</tr>\n",
              "<tr>\n",
              "  <th>Covariance Type:</th>      <td>nonrobust</td>    <th>                     </th>     <td> </td>   \n",
              "</tr>\n",
              "</table>\n",
              "<table class=\"simpletable\">\n",
              "<tr>\n",
              "    <td></td>       <th>coef</th>     <th>std err</th>      <th>t</th>      <th>P>|t|</th>  <th>[0.025</th>    <th>0.975]</th>  \n",
              "</tr>\n",
              "<tr>\n",
              "  <th>const</th> <td>    1.9217</td> <td>    0.191</td> <td>   10.071</td> <td> 0.000</td> <td>    1.543</td> <td>    2.300</td>\n",
              "</tr>\n",
              "<tr>\n",
              "  <th>x1</th>    <td>    1.2007</td> <td>    0.597</td> <td>    2.011</td> <td> 0.047</td> <td>    0.016</td> <td>    2.385</td>\n",
              "</tr>\n",
              "<tr>\n",
              "  <th>x2</th>    <td>    1.4931</td> <td>    0.991</td> <td>    1.507</td> <td> 0.135</td> <td>   -0.473</td> <td>    3.459</td>\n",
              "</tr>\n",
              "</table>\n",
              "<table class=\"simpletable\">\n",
              "<tr>\n",
              "  <th>Omnibus:</th>       <td> 0.196</td> <th>  Durbin-Watson:     </th> <td>   2.109</td>\n",
              "</tr>\n",
              "<tr>\n",
              "  <th>Prob(Omnibus):</th> <td> 0.907</td> <th>  Jarque-Bera (JB):  </th> <td>   0.026</td>\n",
              "</tr>\n",
              "<tr>\n",
              "  <th>Skew:</th>          <td> 0.032</td> <th>  Prob(JB):          </th> <td>   0.987</td>\n",
              "</tr>\n",
              "<tr>\n",
              "  <th>Kurtosis:</th>      <td> 3.046</td> <th>  Cond. No.          </th> <td>    13.0</td>\n",
              "</tr>\n",
              "</table><br/><br/>Notes:<br/>[1] Standard Errors assume that the covariance matrix of the errors is correctly specified."
            ],
            "text/latex": "\\begin{center}\n\\begin{tabular}{lclc}\n\\toprule\n\\textbf{Dep. Variable:}    &        y         & \\textbf{  R-squared:         } &     0.261   \\\\\n\\textbf{Model:}            &       OLS        & \\textbf{  Adj. R-squared:    } &     0.246   \\\\\n\\textbf{Method:}           &  Least Squares   & \\textbf{  F-statistic:       } &     17.16   \\\\\n\\textbf{Date:}             & Mon, 08 Apr 2024 & \\textbf{  Prob (F-statistic):} &  4.16e-07   \\\\\n\\textbf{Time:}             &     05:22:45     & \\textbf{  Log-Likelihood:    } &   -139.04   \\\\\n\\textbf{No. Observations:} &         100      & \\textbf{  AIC:               } &     284.1   \\\\\n\\textbf{Df Residuals:}     &          97      & \\textbf{  BIC:               } &     291.9   \\\\\n\\textbf{Df Model:}         &           2      & \\textbf{                     } &             \\\\\n\\textbf{Covariance Type:}  &    nonrobust     & \\textbf{                     } &             \\\\\n\\bottomrule\n\\end{tabular}\n\\begin{tabular}{lcccccc}\n               & \\textbf{coef} & \\textbf{std err} & \\textbf{t} & \\textbf{P$> |$t$|$} & \\textbf{[0.025} & \\textbf{0.975]}  \\\\\n\\midrule\n\\textbf{const} &       1.9217  &        0.191     &    10.071  &         0.000        &        1.543    &        2.300     \\\\\n\\textbf{x1}    &       1.2007  &        0.597     &     2.011  &         0.047        &        0.016    &        2.385     \\\\\n\\textbf{x2}    &       1.4931  &        0.991     &     1.507  &         0.135        &       -0.473    &        3.459     \\\\\n\\bottomrule\n\\end{tabular}\n\\begin{tabular}{lclc}\n\\textbf{Omnibus:}       &  0.196 & \\textbf{  Durbin-Watson:     } &    2.109  \\\\\n\\textbf{Prob(Omnibus):} &  0.907 & \\textbf{  Jarque-Bera (JB):  } &    0.026  \\\\\n\\textbf{Skew:}          &  0.032 & \\textbf{  Prob(JB):          } &    0.987  \\\\\n\\textbf{Kurtosis:}      &  3.046 & \\textbf{  Cond. No.          } &     13.0  \\\\\n\\bottomrule\n\\end{tabular}\n%\\caption{OLS Regression Results}\n\\end{center}\n\nNotes: \\newline\n [1] Standard Errors assume that the covariance matrix of the errors is correctly specified."
          },
          "metadata": {},
          "execution_count": 3
        }
      ]
    },
    {
      "cell_type": "markdown",
      "source": [
        "**Estimated coefficients are:**\n",
        "\n",
        "#### Intercept ($\\hat{{β}}_0$): 1.922\n",
        "#### Coefficient for ${x}_1$($\\hat{{β}}_1$): 1.200\n",
        "#### Coefficient for ${x}_2$($\\hat{{β}}_2$): 1.493\n",
        "\n",
        "**True coefficients are:**\n",
        "\n",
        "#### Intercept (${β}_0$): 2\n",
        "#### Coefficient ${x}_1$(${β}_1$): 2\n",
        "#### Coefficient ${x}_2$(${β}_2$): 0.3\n",
        "\n",
        "The estimated coefficients are different from the true values. The intercept is almost equal, but ${x}_1$(${β}_1$) and ${x}_2$(${β}_2$) are less accurate. This could be due to the added noise in the data, or the collinearity between ${x}_1$ and ${x}_2$ coming from their high correlation.\n",
        "\n",
        "**Hypothesis Tests:**\n",
        "\n",
        "#### For ${H}_0$:${β}_1$ = 0:\n",
        "\n",
        "The p-value for ${x}_1$ is 0.047 which is less than 0.05, so we reject the null hypothesis. This indicates that ${x}_1$ has a significant linear relationship with y.\n",
        "\n",
        "#### For ${H}_0$:${β}_2$ = 0:\n",
        "The p-value for ${x}_2$ is 0.135 which is greater than 0.05, so we cannot reject the null hypothesis. This indicates that ${x}_2$ does not have a statistically significant linear relationship with y.\n"
      ],
      "metadata": {
        "id": "2sMqpdHafycs"
      }
    },
    {
      "cell_type": "markdown",
      "source": [
        "\n",
        "The model's ${R}^2$ value is 0.261, indicating that approximately 26.1% of the variance in y is explained by ${x}_1$ and ${x}_2$. This relatively low ${R}^2$ value, along with the discrepancies in the estimated coefficients compared to the true ones, suggests that while there is a significant linear relationship between, the overall model fit could be improved, possibly by considering additional factors or addressing the collinearity between the predictors."
      ],
      "metadata": {
        "id": "uCF9tCE0urEs"
      }
    },
    {
      "cell_type": "markdown",
      "source": [
        "## Question d)\n",
        "#### Now fit a least squares regression to predict y using only x1. Comment on your results. Can you reject the null hypothesis ${H}_0$ : ${β}_1$ = 0?"
      ],
      "metadata": {
        "id": "X_xzJF2Ccd9A"
      }
    },
    {
      "cell_type": "code",
      "source": [
        "# Include a constant term using only x1\n",
        "X_1 = sm.add_constant(x1)\n",
        "\n",
        "# Fit the model using only x1\n",
        "model_x1 = sm.OLS(y, X_1).fit()\n",
        "\n",
        "# Get the summary of the regression\n",
        "summary_x1 = model_x1.summary()\n",
        "summary_x1"
      ],
      "metadata": {
        "colab": {
          "base_uri": "https://localhost:8080/",
          "height": 452
        },
        "id": "UihCZLQfjayo",
        "outputId": "e4888b12-0815-4886-87bd-033facc525c4"
      },
      "execution_count": 4,
      "outputs": [
        {
          "output_type": "execute_result",
          "data": {
            "text/plain": [
              "<class 'statsmodels.iolib.summary.Summary'>\n",
              "\"\"\"\n",
              "                            OLS Regression Results                            \n",
              "==============================================================================\n",
              "Dep. Variable:                      y   R-squared:                       0.244\n",
              "Model:                            OLS   Adj. R-squared:                  0.236\n",
              "Method:                 Least Squares   F-statistic:                     31.64\n",
              "Date:                Mon, 08 Apr 2024   Prob (F-statistic):           1.76e-07\n",
              "Time:                        05:22:45   Log-Likelihood:                -140.20\n",
              "No. Observations:                 100   AIC:                             284.4\n",
              "Df Residuals:                      98   BIC:                             289.6\n",
              "Df Model:                           1                                         \n",
              "Covariance Type:            nonrobust                                         \n",
              "==============================================================================\n",
              "                 coef    std err          t      P>|t|      [0.025      0.975]\n",
              "------------------------------------------------------------------------------\n",
              "const          1.9548      0.191     10.247      0.000       1.576       2.333\n",
              "x1             1.9378      0.344      5.625      0.000       1.254       2.621\n",
              "==============================================================================\n",
              "Omnibus:                        0.305   Durbin-Watson:                   2.127\n",
              "Prob(Omnibus):                  0.858   Jarque-Bera (JB):                0.050\n",
              "Skew:                          -0.005   Prob(JB):                        0.975\n",
              "Kurtosis:                       3.109   Cond. No.                         4.30\n",
              "==============================================================================\n",
              "\n",
              "Notes:\n",
              "[1] Standard Errors assume that the covariance matrix of the errors is correctly specified.\n",
              "\"\"\""
            ],
            "text/html": [
              "<table class=\"simpletable\">\n",
              "<caption>OLS Regression Results</caption>\n",
              "<tr>\n",
              "  <th>Dep. Variable:</th>            <td>y</td>        <th>  R-squared:         </th> <td>   0.244</td>\n",
              "</tr>\n",
              "<tr>\n",
              "  <th>Model:</th>                   <td>OLS</td>       <th>  Adj. R-squared:    </th> <td>   0.236</td>\n",
              "</tr>\n",
              "<tr>\n",
              "  <th>Method:</th>             <td>Least Squares</td>  <th>  F-statistic:       </th> <td>   31.64</td>\n",
              "</tr>\n",
              "<tr>\n",
              "  <th>Date:</th>             <td>Mon, 08 Apr 2024</td> <th>  Prob (F-statistic):</th> <td>1.76e-07</td>\n",
              "</tr>\n",
              "<tr>\n",
              "  <th>Time:</th>                 <td>05:22:45</td>     <th>  Log-Likelihood:    </th> <td> -140.20</td>\n",
              "</tr>\n",
              "<tr>\n",
              "  <th>No. Observations:</th>      <td>   100</td>      <th>  AIC:               </th> <td>   284.4</td>\n",
              "</tr>\n",
              "<tr>\n",
              "  <th>Df Residuals:</th>          <td>    98</td>      <th>  BIC:               </th> <td>   289.6</td>\n",
              "</tr>\n",
              "<tr>\n",
              "  <th>Df Model:</th>              <td>     1</td>      <th>                     </th>     <td> </td>   \n",
              "</tr>\n",
              "<tr>\n",
              "  <th>Covariance Type:</th>      <td>nonrobust</td>    <th>                     </th>     <td> </td>   \n",
              "</tr>\n",
              "</table>\n",
              "<table class=\"simpletable\">\n",
              "<tr>\n",
              "    <td></td>       <th>coef</th>     <th>std err</th>      <th>t</th>      <th>P>|t|</th>  <th>[0.025</th>    <th>0.975]</th>  \n",
              "</tr>\n",
              "<tr>\n",
              "  <th>const</th> <td>    1.9548</td> <td>    0.191</td> <td>   10.247</td> <td> 0.000</td> <td>    1.576</td> <td>    2.333</td>\n",
              "</tr>\n",
              "<tr>\n",
              "  <th>x1</th>    <td>    1.9378</td> <td>    0.344</td> <td>    5.625</td> <td> 0.000</td> <td>    1.254</td> <td>    2.621</td>\n",
              "</tr>\n",
              "</table>\n",
              "<table class=\"simpletable\">\n",
              "<tr>\n",
              "  <th>Omnibus:</th>       <td> 0.305</td> <th>  Durbin-Watson:     </th> <td>   2.127</td>\n",
              "</tr>\n",
              "<tr>\n",
              "  <th>Prob(Omnibus):</th> <td> 0.858</td> <th>  Jarque-Bera (JB):  </th> <td>   0.050</td>\n",
              "</tr>\n",
              "<tr>\n",
              "  <th>Skew:</th>          <td>-0.005</td> <th>  Prob(JB):          </th> <td>   0.975</td>\n",
              "</tr>\n",
              "<tr>\n",
              "  <th>Kurtosis:</th>      <td> 3.109</td> <th>  Cond. No.          </th> <td>    4.30</td>\n",
              "</tr>\n",
              "</table><br/><br/>Notes:<br/>[1] Standard Errors assume that the covariance matrix of the errors is correctly specified."
            ],
            "text/latex": "\\begin{center}\n\\begin{tabular}{lclc}\n\\toprule\n\\textbf{Dep. Variable:}    &        y         & \\textbf{  R-squared:         } &     0.244   \\\\\n\\textbf{Model:}            &       OLS        & \\textbf{  Adj. R-squared:    } &     0.236   \\\\\n\\textbf{Method:}           &  Least Squares   & \\textbf{  F-statistic:       } &     31.64   \\\\\n\\textbf{Date:}             & Mon, 08 Apr 2024 & \\textbf{  Prob (F-statistic):} &  1.76e-07   \\\\\n\\textbf{Time:}             &     05:22:45     & \\textbf{  Log-Likelihood:    } &   -140.20   \\\\\n\\textbf{No. Observations:} &         100      & \\textbf{  AIC:               } &     284.4   \\\\\n\\textbf{Df Residuals:}     &          98      & \\textbf{  BIC:               } &     289.6   \\\\\n\\textbf{Df Model:}         &           1      & \\textbf{                     } &             \\\\\n\\textbf{Covariance Type:}  &    nonrobust     & \\textbf{                     } &             \\\\\n\\bottomrule\n\\end{tabular}\n\\begin{tabular}{lcccccc}\n               & \\textbf{coef} & \\textbf{std err} & \\textbf{t} & \\textbf{P$> |$t$|$} & \\textbf{[0.025} & \\textbf{0.975]}  \\\\\n\\midrule\n\\textbf{const} &       1.9548  &        0.191     &    10.247  &         0.000        &        1.576    &        2.333     \\\\\n\\textbf{x1}    &       1.9378  &        0.344     &     5.625  &         0.000        &        1.254    &        2.621     \\\\\n\\bottomrule\n\\end{tabular}\n\\begin{tabular}{lclc}\n\\textbf{Omnibus:}       &  0.305 & \\textbf{  Durbin-Watson:     } &    2.127  \\\\\n\\textbf{Prob(Omnibus):} &  0.858 & \\textbf{  Jarque-Bera (JB):  } &    0.050  \\\\\n\\textbf{Skew:}          & -0.005 & \\textbf{  Prob(JB):          } &    0.975  \\\\\n\\textbf{Kurtosis:}      &  3.109 & \\textbf{  Cond. No.          } &     4.30  \\\\\n\\bottomrule\n\\end{tabular}\n%\\caption{OLS Regression Results}\n\\end{center}\n\nNotes: \\newline\n [1] Standard Errors assume that the covariance matrix of the errors is correctly specified."
          },
          "metadata": {},
          "execution_count": 4
        }
      ]
    },
    {
      "cell_type": "markdown",
      "source": [
        "**Estimated values:**\n",
        "\n",
        "#### The estimated intercept ($\\hat{{β}}_0$): 1.955\n",
        "#### The estimated coefficient for ${x}_1$($\\hat{{β}}_1$): 1.938\n",
        "\n",
        "\n",
        "**True values:**\n",
        "\n",
        "#### True intercept ($\\hat{{β}}_0$): 2\n",
        "#### True coefficient for ${x}_1$($\\hat{{β}}_1$): 2\n",
        "\n",
        "\n",
        "**Hypothesis Tests:**\n",
        "\n",
        "#### For ${H}_0$:${β}_1$ = 0:\n",
        "\n",
        "The p-value for ${x}_1$ is 0 which is less than 0.05, so we reject the null hypothesis. This indicates that ${x}_1$ has a significant linear relationship with y.\n",
        "\n",
        "We see that the ${x}_1$($\\hat{{β}}_1$) value is much closer to the true value when fitting the model using ${x}_1$ alone, meaning ${x}_1$ is important in predicting y. This also indicates that ${x}_2$ may have introduced some estimation issues in the models performance."
      ],
      "metadata": {
        "id": "EzJ6bpwqjbBy"
      }
    },
    {
      "cell_type": "markdown",
      "source": [
        "## Question e)\n",
        "#### Now fit a least squares regression to predict y using only x2. Comment on your results. Can you reject the null hypothesis ${H}_0$ : ${β}_2$ = 0?"
      ],
      "metadata": {
        "id": "ofoEkxhCi38Y"
      }
    },
    {
      "cell_type": "code",
      "source": [
        "# Include a constant term using only x2\n",
        "X_2 = sm.add_constant(x2)\n",
        "\n",
        "# Fit the model using only x2\n",
        "model_x2 = sm.OLS(y, X_2).fit()\n",
        "\n",
        "# Get the summary of the regression\n",
        "summary_x2 = model_x2.summary()\n",
        "summary_x2"
      ],
      "metadata": {
        "colab": {
          "base_uri": "https://localhost:8080/",
          "height": 452
        },
        "id": "9Oun4hgPyTGE",
        "outputId": "a83a95d6-747d-48e0-c587-583425ff02dd"
      },
      "execution_count": 5,
      "outputs": [
        {
          "output_type": "execute_result",
          "data": {
            "text/plain": [
              "<class 'statsmodels.iolib.summary.Summary'>\n",
              "\"\"\"\n",
              "                            OLS Regression Results                            \n",
              "==============================================================================\n",
              "Dep. Variable:                      y   R-squared:                       0.231\n",
              "Model:                            OLS   Adj. R-squared:                  0.223\n",
              "Method:                 Least Squares   F-statistic:                     29.37\n",
              "Date:                Mon, 08 Apr 2024   Prob (F-statistic):           4.29e-07\n",
              "Time:                        05:22:45   Log-Likelihood:                -141.09\n",
              "No. Observations:                 100   AIC:                             286.2\n",
              "Df Residuals:                      98   BIC:                             291.4\n",
              "Df Model:                           1                                         \n",
              "Covariance Type:            nonrobust                                         \n",
              "==============================================================================\n",
              "                 coef    std err          t      P>|t|      [0.025      0.975]\n",
              "------------------------------------------------------------------------------\n",
              "const          2.0721      0.178     11.623      0.000       1.718       2.426\n",
              "x1             3.1255      0.577      5.419      0.000       1.981       4.270\n",
              "==============================================================================\n",
              "Omnibus:                        0.213   Durbin-Watson:                   2.005\n",
              "Prob(Omnibus):                  0.899   Jarque-Bera (JB):                0.187\n",
              "Skew:                           0.100   Prob(JB):                        0.911\n",
              "Kurtosis:                       2.929   Cond. No.                         6.14\n",
              "==============================================================================\n",
              "\n",
              "Notes:\n",
              "[1] Standard Errors assume that the covariance matrix of the errors is correctly specified.\n",
              "\"\"\""
            ],
            "text/html": [
              "<table class=\"simpletable\">\n",
              "<caption>OLS Regression Results</caption>\n",
              "<tr>\n",
              "  <th>Dep. Variable:</th>            <td>y</td>        <th>  R-squared:         </th> <td>   0.231</td>\n",
              "</tr>\n",
              "<tr>\n",
              "  <th>Model:</th>                   <td>OLS</td>       <th>  Adj. R-squared:    </th> <td>   0.223</td>\n",
              "</tr>\n",
              "<tr>\n",
              "  <th>Method:</th>             <td>Least Squares</td>  <th>  F-statistic:       </th> <td>   29.37</td>\n",
              "</tr>\n",
              "<tr>\n",
              "  <th>Date:</th>             <td>Mon, 08 Apr 2024</td> <th>  Prob (F-statistic):</th> <td>4.29e-07</td>\n",
              "</tr>\n",
              "<tr>\n",
              "  <th>Time:</th>                 <td>05:22:45</td>     <th>  Log-Likelihood:    </th> <td> -141.09</td>\n",
              "</tr>\n",
              "<tr>\n",
              "  <th>No. Observations:</th>      <td>   100</td>      <th>  AIC:               </th> <td>   286.2</td>\n",
              "</tr>\n",
              "<tr>\n",
              "  <th>Df Residuals:</th>          <td>    98</td>      <th>  BIC:               </th> <td>   291.4</td>\n",
              "</tr>\n",
              "<tr>\n",
              "  <th>Df Model:</th>              <td>     1</td>      <th>                     </th>     <td> </td>   \n",
              "</tr>\n",
              "<tr>\n",
              "  <th>Covariance Type:</th>      <td>nonrobust</td>    <th>                     </th>     <td> </td>   \n",
              "</tr>\n",
              "</table>\n",
              "<table class=\"simpletable\">\n",
              "<tr>\n",
              "    <td></td>       <th>coef</th>     <th>std err</th>      <th>t</th>      <th>P>|t|</th>  <th>[0.025</th>    <th>0.975]</th>  \n",
              "</tr>\n",
              "<tr>\n",
              "  <th>const</th> <td>    2.0721</td> <td>    0.178</td> <td>   11.623</td> <td> 0.000</td> <td>    1.718</td> <td>    2.426</td>\n",
              "</tr>\n",
              "<tr>\n",
              "  <th>x1</th>    <td>    3.1255</td> <td>    0.577</td> <td>    5.419</td> <td> 0.000</td> <td>    1.981</td> <td>    4.270</td>\n",
              "</tr>\n",
              "</table>\n",
              "<table class=\"simpletable\">\n",
              "<tr>\n",
              "  <th>Omnibus:</th>       <td> 0.213</td> <th>  Durbin-Watson:     </th> <td>   2.005</td>\n",
              "</tr>\n",
              "<tr>\n",
              "  <th>Prob(Omnibus):</th> <td> 0.899</td> <th>  Jarque-Bera (JB):  </th> <td>   0.187</td>\n",
              "</tr>\n",
              "<tr>\n",
              "  <th>Skew:</th>          <td> 0.100</td> <th>  Prob(JB):          </th> <td>   0.911</td>\n",
              "</tr>\n",
              "<tr>\n",
              "  <th>Kurtosis:</th>      <td> 2.929</td> <th>  Cond. No.          </th> <td>    6.14</td>\n",
              "</tr>\n",
              "</table><br/><br/>Notes:<br/>[1] Standard Errors assume that the covariance matrix of the errors is correctly specified."
            ],
            "text/latex": "\\begin{center}\n\\begin{tabular}{lclc}\n\\toprule\n\\textbf{Dep. Variable:}    &        y         & \\textbf{  R-squared:         } &     0.231   \\\\\n\\textbf{Model:}            &       OLS        & \\textbf{  Adj. R-squared:    } &     0.223   \\\\\n\\textbf{Method:}           &  Least Squares   & \\textbf{  F-statistic:       } &     29.37   \\\\\n\\textbf{Date:}             & Mon, 08 Apr 2024 & \\textbf{  Prob (F-statistic):} &  4.29e-07   \\\\\n\\textbf{Time:}             &     05:22:45     & \\textbf{  Log-Likelihood:    } &   -141.09   \\\\\n\\textbf{No. Observations:} &         100      & \\textbf{  AIC:               } &     286.2   \\\\\n\\textbf{Df Residuals:}     &          98      & \\textbf{  BIC:               } &     291.4   \\\\\n\\textbf{Df Model:}         &           1      & \\textbf{                     } &             \\\\\n\\textbf{Covariance Type:}  &    nonrobust     & \\textbf{                     } &             \\\\\n\\bottomrule\n\\end{tabular}\n\\begin{tabular}{lcccccc}\n               & \\textbf{coef} & \\textbf{std err} & \\textbf{t} & \\textbf{P$> |$t$|$} & \\textbf{[0.025} & \\textbf{0.975]}  \\\\\n\\midrule\n\\textbf{const} &       2.0721  &        0.178     &    11.623  &         0.000        &        1.718    &        2.426     \\\\\n\\textbf{x1}    &       3.1255  &        0.577     &     5.419  &         0.000        &        1.981    &        4.270     \\\\\n\\bottomrule\n\\end{tabular}\n\\begin{tabular}{lclc}\n\\textbf{Omnibus:}       &  0.213 & \\textbf{  Durbin-Watson:     } &    2.005  \\\\\n\\textbf{Prob(Omnibus):} &  0.899 & \\textbf{  Jarque-Bera (JB):  } &    0.187  \\\\\n\\textbf{Skew:}          &  0.100 & \\textbf{  Prob(JB):          } &    0.911  \\\\\n\\textbf{Kurtosis:}      &  2.929 & \\textbf{  Cond. No.          } &     6.14  \\\\\n\\bottomrule\n\\end{tabular}\n%\\caption{OLS Regression Results}\n\\end{center}\n\nNotes: \\newline\n [1] Standard Errors assume that the covariance matrix of the errors is correctly specified."
          },
          "metadata": {},
          "execution_count": 5
        }
      ]
    },
    {
      "cell_type": "markdown",
      "source": [
        "**Estimated values:**\n",
        "\n",
        "#### The estimated intercept ($\\hat{{β}}_0$): 2.0721\n",
        "#### The estimated coefficient for ${x}_2$($\\hat{{β}}_2$): 3.1255\n",
        "\n",
        "**True values:**\n",
        "\n",
        "#### True intercept ($\\hat{{β}}_0$): 2\n",
        "#### True coefficient for ${x}_2$($\\hat{{β}}_2$): 0.3\n",
        "\n",
        "\n",
        "**Hypothesis Tests:**\n",
        "\n",
        "#### For ${H}_0$:${β}_2$ = 0:\n",
        "\n",
        "The p-value for ${x}_1=2$ is 0 which is less than 0.05, so we reject the null hypothesis and claim that ${x}_2$ has a significant effect on y.\n",
        "\n",
        "The predicted intercept ($\\hat{{β}}_0$) was 2.07, which was very close to the true intercept value ($\\hat{{β}}_0$) of 2. The ${x}_2$($\\hat{{β}}_2$) value is much larger than the true value, which could be due to the fact that ${x}_1$ also has a significant effect on y."
      ],
      "metadata": {
        "id": "5tuMoEq_hMUy"
      }
    },
    {
      "cell_type": "markdown",
      "source": [
        "## Question f)\n",
        "#### Do the results obtained in (c)-(e) contradict each other? Explain your answer."
      ],
      "metadata": {
        "id": "f5mizML0ez7r"
      }
    },
    {
      "cell_type": "code",
      "source": [
        "# Reference on understanding how to interpret high correlation between predictors: https://online.stat.psu.edu/stat501/lesson/12/12.3"
      ],
      "metadata": {
        "id": "TxhdzALm2CpQ"
      },
      "execution_count": 6,
      "outputs": []
    },
    {
      "cell_type": "markdown",
      "source": [
        "No, the results from c through e do not necessarily contradict themselves. It is important to recognize that ${x}_1$ and ${x}_2$ have significance when predicting y, which may have been missed by just looking at c. The discrepancy with the null hypothesis in ${x}_2$ could be attributed to multicollinearity as ${x}_1$ and ${x}_2$ have a high correlation between them. These differences show that the way predictors interact with each other may affect the final prediction.\n"
      ],
      "metadata": {
        "id": "XiC5yjIu0Jio"
      }
    },
    {
      "cell_type": "markdown",
      "source": [
        "## Question g)\n",
        "#### Now suppose we obtain one additional observation, which was unfortunately mismeasured. Run the following lines:"
      ],
      "metadata": {
        "id": "CwvOno36e0Fo"
      }
    },
    {
      "cell_type": "code",
      "source": [
        "x1 = np.append(x1, 0.1)\n",
        "x2 = np.append(x2, 0.8)\n",
        "y = np.append(y, 6)"
      ],
      "metadata": {
        "id": "WGSHcKx6fFCB"
      },
      "execution_count": 7,
      "outputs": []
    },
    {
      "cell_type": "markdown",
      "source": [
        "#### Re-fit the linear models from (c)-(e) using this new data. What effect does this new observation have on each of the models? In each model, is this observation an outlier? A high-leverage point? Both? Explain your answers. (Hint: use .get_influence().summary_frame() to get student_resid and leverage fields.)"
      ],
      "metadata": {
        "id": "XBp23tbRe0K8"
      }
    },
    {
      "cell_type": "code",
      "source": [
        "# References:\n",
        "# Reading up on leverage and how to interpret leverage results: https://www.aptech.com/resources/tutorials/econometrics/ols-diagnostics-influential-data-tests/\n",
        "# High-leverage points are outliers with respect to the independent variables.\n",
        "# For student residuals: https://online.stat.psu.edu/stat462/node/247/"
      ],
      "metadata": {
        "id": "0pm47Ltq5Gdw"
      },
      "execution_count": 8,
      "outputs": []
    },
    {
      "cell_type": "markdown",
      "source": [
        "### Model c:"
      ],
      "metadata": {
        "id": "WT0owPh52pkG"
      }
    },
    {
      "cell_type": "code",
      "source": [
        "print(\"\\n For Model C: x1 and x2:\\n\")\n",
        "X_comb = np.column_stack((x1, x2)) # Stack x1 and x2 to form 2D array\n",
        "X = sm.add_constant(X_comb)\n",
        "\n",
        "model_c = sm.OLS(y, X).fit() # Fit the model\n",
        "print(model_c.summary(), '\\n')\n",
        "info_c = model_c.get_influence().summary_frame() # Get new statistics (leverage fields)\n",
        "new_obs_c = info_c.iloc[-1] # See influence from new observation\n",
        "\n",
        "sr = new_obs_c['student_resid'] # get metrics of interest\n",
        "hd = new_obs_c['hat_diag']\n",
        "\n",
        "print(new_obs_c, '\\n')\n",
        "\n",
        "print(\"\\n - student_resid: {:.3f}\".format(sr),'\\n',\"- hat_diag: {:.3f}\".format(hd), '\\n')\n"
      ],
      "metadata": {
        "colab": {
          "base_uri": "https://localhost:8080/"
        },
        "id": "jHlLO1pc2nZX",
        "outputId": "710a6b1c-6712-4703-91cf-35c34713e59f"
      },
      "execution_count": 9,
      "outputs": [
        {
          "output_type": "stream",
          "name": "stdout",
          "text": [
            "\n",
            " For Model C: x1 and x2:\n",
            "\n",
            "                            OLS Regression Results                            \n",
            "==============================================================================\n",
            "Dep. Variable:                      y   R-squared:                       0.278\n",
            "Model:                            OLS   Adj. R-squared:                  0.263\n",
            "Method:                 Least Squares   F-statistic:                     18.85\n",
            "Date:                Mon, 08 Apr 2024   Prob (F-statistic):           1.18e-07\n",
            "Time:                        05:22:45   Log-Likelihood:                -142.48\n",
            "No. Observations:                 101   AIC:                             291.0\n",
            "Df Residuals:                      98   BIC:                             298.8\n",
            "Df Model:                           2                                         \n",
            "Covariance Type:            nonrobust                                         \n",
            "==============================================================================\n",
            "                 coef    std err          t      P>|t|      [0.025      0.975]\n",
            "------------------------------------------------------------------------------\n",
            "const          1.9480      0.194     10.025      0.000       1.562       2.334\n",
            "x1             0.4799      0.513      0.935      0.352      -0.538       1.498\n",
            "x2             2.7923      0.820      3.407      0.001       1.166       4.419\n",
            "==============================================================================\n",
            "Omnibus:                        0.064   Durbin-Watson:                   2.010\n",
            "Prob(Omnibus):                  0.969   Jarque-Bera (JB):                0.096\n",
            "Skew:                           0.055   Prob(JB):                        0.953\n",
            "Kurtosis:                       2.897   Cond. No.                         10.5\n",
            "==============================================================================\n",
            "\n",
            "Notes:\n",
            "[1] Standard Errors assume that the covariance matrix of the errors is correctly specified. \n",
            "\n",
            "dfb_const          0.138486\n",
            "dfb_x1            -1.433325\n",
            "dfb_x2             1.617409\n",
            "cooks_d            0.902975\n",
            "standard_resid     2.196751\n",
            "hat_diag           0.359529\n",
            "dffits_internal    1.645881\n",
            "student_resid      2.241396\n",
            "dffits             1.679331\n",
            "Name: 100, dtype: float64 \n",
            "\n",
            "\n",
            " - student_resid: 2.241 \n",
            " - hat_diag: 0.360 \n",
            "\n"
          ]
        }
      ]
    },
    {
      "cell_type": "markdown",
      "source": [
        "#### **Analysis:**\n",
        "#### Student Residual: 2.241\n",
        "The absolute value of the student residual value (student_resid) is less than 3 so the new observation is not an outlier\n",
        "\n",
        "#### Leverage: 0.360\n",
        "*   *p = 2 (because we have 2 parameters)*\n",
        "*   *n = 101 (added new observation)*\n",
        "\n",
        "##### Average leverage statistic: (p + 1)/n = (2 + 1)/n = 3/101 = **~0.03**\n",
        "\n",
        "##### Cutoff: (2p + 2)/n = (4 + 2)/n = 6/101 = **~0.06**\n",
        "\n",
        "\n",
        "0.360 greatly exceeds both the average leverage statistic and the cutoff, indicating that the new observation is a high-leverage point. This means that it might have a large influence on regression coefficients of the model."
      ],
      "metadata": {
        "id": "BVePNazK5E-n"
      }
    },
    {
      "cell_type": "markdown",
      "source": [
        "### Model d:"
      ],
      "metadata": {
        "id": "GkFQAWfd2z2q"
      }
    },
    {
      "cell_type": "code",
      "source": [
        "print(\"\\n For Model D: x1 only\\n\")\n",
        "X_1 = sm.add_constant(x1)\n",
        "\n",
        "model_d = sm.OLS(y, X_1).fit() # Fit the model\n",
        "print(model_d.summary(), '\\n')\n",
        "\n",
        "info_d = model_d.get_influence().summary_frame() # Get influence measures\n",
        "new_obs_d = info_d.iloc[-1] # see influence from new observation\n",
        "\n",
        "sr = new_obs_d['student_resid'] # get metrics of interest\n",
        "hd = new_obs_d['hat_diag']\n",
        "\n",
        "print(new_obs_d, '\\n')\n",
        "\n",
        "print(\"\\n - student_resid: {:.3f}\".format(sr),'\\n',\"- hat_diag: {:.3f}\".format(hd), '\\n')\n"
      ],
      "metadata": {
        "colab": {
          "base_uri": "https://localhost:8080/"
        },
        "id": "8TZFuboE78AF",
        "outputId": "7cf72278-3cb2-4f35-9c52-01b648758d71"
      },
      "execution_count": 10,
      "outputs": [
        {
          "output_type": "stream",
          "name": "stdout",
          "text": [
            "\n",
            " For Model D: x1 only\n",
            "\n",
            "                            OLS Regression Results                            \n",
            "==============================================================================\n",
            "Dep. Variable:                      y   R-squared:                       0.192\n",
            "Model:                            OLS   Adj. R-squared:                  0.184\n",
            "Method:                 Least Squares   F-statistic:                     23.57\n",
            "Date:                Mon, 08 Apr 2024   Prob (F-statistic):           4.50e-06\n",
            "Time:                        05:22:45   Log-Likelihood:                -148.13\n",
            "No. Observations:                 101   AIC:                             300.3\n",
            "Df Residuals:                      99   BIC:                             305.5\n",
            "Df Model:                           1                                         \n",
            "Covariance Type:            nonrobust                                         \n",
            "==============================================================================\n",
            "                 coef    std err          t      P>|t|      [0.025      0.975]\n",
            "------------------------------------------------------------------------------\n",
            "const          2.0719      0.201     10.315      0.000       1.673       2.470\n",
            "x1             1.7696      0.364      4.855      0.000       1.046       2.493\n",
            "==============================================================================\n",
            "Omnibus:                        6.291   Durbin-Watson:                   1.848\n",
            "Prob(Omnibus):                  0.043   Jarque-Bera (JB):                6.776\n",
            "Skew:                           0.373   Prob(JB):                       0.0338\n",
            "Kurtosis:                       4.027   Cond. No.                         4.27\n",
            "==============================================================================\n",
            "\n",
            "Notes:\n",
            "[1] Standard Errors assume that the covariance matrix of the errors is correctly specified. \n",
            "\n",
            "dfb_const          0.621643\n",
            "dfb_x1            -0.492401\n",
            "cooks_d            0.171968\n",
            "standard_resid     3.587715\n",
            "hat_diag           0.026025\n",
            "dffits_internal    0.586460\n",
            "student_resid      3.826997\n",
            "dffits             0.625574\n",
            "Name: 100, dtype: float64 \n",
            "\n",
            "\n",
            " - student_resid: 3.827 \n",
            " - hat_diag: 0.026 \n",
            "\n"
          ]
        }
      ]
    },
    {
      "cell_type": "markdown",
      "source": [
        "#### **Analysis:**\n",
        "#### **Student Residual (student_resid):** 3.827\n",
        "The absolute value of the residual (student_resid) is greater than 3, indicating that the observation is an outlier.\n",
        "\n",
        "#### **Leverage (hat_diag):** 0.026\n",
        "\n",
        "*   *p = 1 (because we have 1 parameter)*\n",
        "*   *n = 101 (added new observation)*\n",
        "\n",
        "\n",
        "##### Average leverage statistic: (1 + 1)/n = 2/101 = **~0.02**\n",
        "\n",
        "##### Cutoff: (2p + 2)/n = 4/101 = **~0.04**\n",
        "\n",
        "The leverage statistic for this observation is 0.026 which is within the range, indicating that the new observation is not a high-leverage point. It is slightly above the average, so it may have slight leverage effect."
      ],
      "metadata": {
        "id": "Tfr10bDq-I_h"
      }
    },
    {
      "cell_type": "markdown",
      "source": [
        "### Model e:"
      ],
      "metadata": {
        "id": "2M0gL3zR21CO"
      }
    },
    {
      "cell_type": "code",
      "source": [
        "print(\"\\n For Model E: x2 only\\n\")\n",
        "X_2 = sm.add_constant(x2) # Add constant for LinReg\n",
        "\n",
        "model_e = sm.OLS(y, X_2).fit() # Fit the model\n",
        "print(model_e.summary(), '\\n')\n",
        "info_e = model_e.get_influence().summary_frame() # Get influence measures\n",
        "new_obs_e = info_e.iloc[-1] # see influence from new observation\n",
        "\n",
        "sr = new_obs_e['student_resid'] # get metrics of interest\n",
        "hd = new_obs_e['hat_diag']\n",
        "\n",
        "\n",
        "print(new_obs_e, '\\n')\n",
        "\n",
        "print(\"\\n - student_resid: {:.3f}\".format(sr),'\\n',\"- hat_diag: {:.3f}\".format(hd), '\\n')\n"
      ],
      "metadata": {
        "colab": {
          "base_uri": "https://localhost:8080/"
        },
        "id": "EwHsYxeW26CY",
        "outputId": "5def70c5-60b6-4de5-ebc8-ebe047dd8e37"
      },
      "execution_count": 11,
      "outputs": [
        {
          "output_type": "stream",
          "name": "stdout",
          "text": [
            "\n",
            " For Model E: x2 only\n",
            "\n",
            "                            OLS Regression Results                            \n",
            "==============================================================================\n",
            "Dep. Variable:                      y   R-squared:                       0.271\n",
            "Model:                            OLS   Adj. R-squared:                  0.264\n",
            "Method:                 Least Squares   F-statistic:                     36.88\n",
            "Date:                Mon, 08 Apr 2024   Prob (F-statistic):           2.33e-08\n",
            "Time:                        05:22:46   Log-Likelihood:                -142.93\n",
            "No. Observations:                 101   AIC:                             289.9\n",
            "Df Residuals:                      99   BIC:                             295.1\n",
            "Df Model:                           1                                         \n",
            "Covariance Type:            nonrobust                                         \n",
            "==============================================================================\n",
            "                 coef    std err          t      P>|t|      [0.025      0.975]\n",
            "------------------------------------------------------------------------------\n",
            "const          2.0255      0.176     11.531      0.000       1.677       2.374\n",
            "x1             3.3578      0.553      6.073      0.000       2.261       4.455\n",
            "==============================================================================\n",
            "Omnibus:                        0.071   Durbin-Watson:                   1.999\n",
            "Prob(Omnibus):                  0.965   Jarque-Bera (JB):                0.141\n",
            "Skew:                           0.061   Prob(JB):                        0.932\n",
            "Kurtosis:                       2.864   Cond. No.                         5.91\n",
            "==============================================================================\n",
            "\n",
            "Notes:\n",
            "[1] Standard Errors assume that the covariance matrix of the errors is correctly specified. \n",
            "\n",
            "dfb_const         -0.265889\n",
            "dfb_x1             0.421949\n",
            "cooks_d            0.098243\n",
            "standard_resid     1.347693\n",
            "hat_diag           0.097620\n",
            "dffits_internal    0.443267\n",
            "student_resid      1.353341\n",
            "dffits             0.445125\n",
            "Name: 100, dtype: float64 \n",
            "\n",
            "\n",
            " - student_resid: 1.353 \n",
            " - hat_diag: 0.098 \n",
            "\n"
          ]
        }
      ]
    },
    {
      "cell_type": "markdown",
      "source": [
        "#### **Analysis:**\n",
        "#### Student Residual: 1.353\n",
        "The absolute value of the residual (student_resid) is less than 3, indicating that the new observation is not an outlier.\n",
        "\n",
        "#### Leverage: 0.098\n",
        "*   *p = 1 because we have 1 parameter*\n",
        "*   *n = 101 (added new observation)*\n",
        "\n",
        "##### Average leverage statistic: (p + 1)/n = (1 + 1)/n = 2/101 = **~0.02**\n",
        "\n",
        "##### Cutoff: (2p + 2)/n = (2 + 2)/n = 4/101 = **~0.04**\n",
        "\n",
        "The leverage statistic for this observation is 0.098, which exceeds the cutoff leverage statistic. This indicates that the observation is a high-leverage point and may have a large influence on the regression coefficients of the model."
      ],
      "metadata": {
        "id": "8tuxDKYE5C7A"
      }
    },
    {
      "cell_type": "markdown",
      "source": [
        "## Overall:\n",
        "New observation in:\n",
        "\n",
        "*   Model C: Not an outlier, high-leverage point\n",
        "    - The observation impacts the model\n",
        "    - The R^2 value of the model had a slight increase from 0.261 to 0.278 with the new observation, indicating that it slightly improved the model.\n",
        "  \n",
        "*   Model D: Outlier, not a high-leverage point\n",
        "    - The observation does not impact the model\n",
        "    - The R^2 value of the model went down from 0.244 to 0.192, indicating that the new observation negatively impacted the models performance.\n",
        "\n",
        "*   Model E: Not an outlier, high-leverage point\n",
        "    - The observation impacts the model\n",
        "    - The R^2 value of the model increased from 0.231 to 0.271 with the new observation, so the new observation improved the model.\n",
        "\n"
      ],
      "metadata": {
        "id": "-6hLlJAqFdE0"
      }
    },
    {
      "cell_type": "code",
      "source": [],
      "metadata": {
        "id": "nh0m5n5sFcMn"
      },
      "execution_count": 11,
      "outputs": []
    }
  ]
}
{
  "nbformat": 4,
  "nbformat_minor": 0,
  "metadata": {
    "colab": {
      "provenance": []
    },
    "kernelspec": {
      "name": "python3",
      "display_name": "Python 3"
    },
    "language_info": {
      "name": "python"
    }
  },
  "cells": [
    {
      "cell_type": "markdown",
      "source": [
        "### Import Statements Used:"
      ],
      "metadata": {
        "id": "xYVxu-fNIfgW"
      }
    },
    {
      "cell_type": "code",
      "source": [
        "import numpy as np"
      ],
      "metadata": {
        "id": "8-HxsmiLIfm6"
      },
      "execution_count": 1,
      "outputs": []
    },
    {
      "cell_type": "markdown",
      "source": [
        "##**Practice:**"
      ],
      "metadata": {
        "id": "keQ-0k0uIaxR"
      }
    },
    {
      "cell_type": "markdown",
      "source": [
        "# **Q1**"
      ],
      "metadata": {
        "id": "r-pRVitEwLIu"
      }
    },
    {
      "cell_type": "code",
      "source": [
        "# References: Used Numpy notebook from class\n",
        "'''\n",
        "1(a) Form this array without typing out all of the numbers.\n",
        "'''\n",
        "Z = np.arange(256)\n",
        "\n",
        "'''\n",
        "1(b) Reshape this array to be a 16x16 matrix\n",
        "'''\n",
        "Z_reshaped = Z.reshape((16, 16))\n",
        "#print(Z_reshaped) # Sanity check\n",
        "\n",
        "'''\n",
        "1(c) Determine Z1, Z2, Z3, and Z4, which are the 8 × 8 matrices that our matrix can be split into.\n",
        "'''\n",
        "Z1 = Z_reshaped[:8, :8]  # upper left\n",
        "Z2 = Z_reshaped[:8, 8:]  # upper right\n",
        "Z3 = Z_reshaped[8:, :8]  # lower left\n",
        "Z4 = Z_reshaped[8:, 8:]  # lower right\n",
        "#print(Z1,'\\n', Z2,'\\n', Z3,'\\n', Z4, '\\n')\n",
        "\n",
        "'''\n",
        "1(d) For each of Z1, Z2, Z3, and Z4, determine the sum of the 64 elements of the matrix.\n",
        "'''\n",
        "Z1_sum = np.sum(Z1)\n",
        "print(\"Sum of Z1: \", Z1_sum)\n",
        "Z2_sum = np.sum(Z2)\n",
        "print(\"Sum of Z2: \", Z2_sum)\n",
        "Z3_sum = np.sum(Z3)\n",
        "print(\"Sum of Z3: \", Z3_sum)\n",
        "Z4_sum = np.sum(Z4)\n",
        "print(\"Sum of Z4: \", Z4_sum)\n",
        "\n"
      ],
      "metadata": {
        "colab": {
          "base_uri": "https://localhost:8080/"
        },
        "id": "YnRqYndsvmod",
        "outputId": "cd8bfdcd-0e95-4ead-ae1e-2319e3fdef61"
      },
      "execution_count": 2,
      "outputs": [
        {
          "output_type": "stream",
          "name": "stdout",
          "text": [
            "Sum of Z1:  3808\n",
            "Sum of Z2:  4320\n",
            "Sum of Z3:  12000\n",
            "Sum of Z4:  12512\n"
          ]
        }
      ]
    },
    {
      "cell_type": "markdown",
      "source": [
        "# **Q2**"
      ],
      "metadata": {
        "id": "vssZmqq8xkoT"
      }
    },
    {
      "cell_type": "code",
      "source": [
        "'''\n",
        "A magic square is a matrix all of whose row sums, column sums and the sums of the two diagonals are\n",
        "the same. (One diagonal of a matrix goes from the top left to the bottom right, the other diagonal\n",
        "goes from top right to bottom left.) Show by direct computation that the matrix A given by the line\n",
        "below is a magic square.\n",
        "'''"
      ],
      "metadata": {
        "colab": {
          "base_uri": "https://localhost:8080/",
          "height": 70
        },
        "id": "kZwGlaHZhUpM",
        "outputId": "947b4318-3cee-4ad3-e1bb-84a43d9fdc72"
      },
      "execution_count": 3,
      "outputs": [
        {
          "output_type": "execute_result",
          "data": {
            "text/plain": [
              "'\\nA magic square is a matrix all of whose row sums, column sums and the sums of the two diagonals are\\nthe same. (One diagonal of a matrix goes from the top left to the bottom right, the other diagonal\\ngoes from top right to bottom left.) Show by direct computation that the matrix A given by the line\\nbelow is a magic square.\\n'"
            ],
            "application/vnd.google.colaboratory.intrinsic+json": {
              "type": "string"
            }
          },
          "metadata": {},
          "execution_count": 3
        }
      ]
    },
    {
      "cell_type": "code",
      "source": [
        "'''\n",
        "References:\n",
        "For diagonal sum: https://numpy.org/doc/stable/reference/generated/numpy.diagonal.html\n",
        "'''\n",
        "\n",
        "#  Matrix A (from problem)\n",
        "A = np.array([\n",
        "    [17, 24, 1, 8, 15],\n",
        "    [23, 5, 7, 14, 16],\n",
        "    [4, 6, 13, 20, 22],\n",
        "    [10, 12, 19, 21, 3],\n",
        "    [11, 18, 25, 2, 9]\n",
        "    ])\n",
        "\n",
        "# For row and col sum computations:\n",
        "row_sum = np.sum(A, axis=1)   # axis 1 indicates sum over rows\n",
        "col_sum = np.sum(A, axis=0)   # axis 0 indicates sum over cols\n",
        "\n",
        "# Row min and max\n",
        "row_min = np.min(row_sum)\n",
        "row_max = np.max(row_sum)\n",
        "\n",
        "# Col min and max\n",
        "col_min = np.min(col_sum)\n",
        "col_max = np.max(col_sum)\n",
        "\n",
        "# For diagonal sums:\n",
        "diag_sum = (np.trace(A)) # Trace function to compute sum\n",
        "flipped_diag_sum = np.trace(np.fliplr(A))  # Flip to get other direction\n",
        "\n",
        "if(row_min == row_max == col_min == col_max == diag_sum == flipped_diag_sum): # Check the 6 values\n",
        "  print('A is a magic number! :)')\n",
        "else:\n",
        "  print('A is not a magic number :(')\n"
      ],
      "metadata": {
        "colab": {
          "base_uri": "https://localhost:8080/"
        },
        "id": "jxJBLX2VyXpM",
        "outputId": "8d1ce6e2-1ce4-4a84-bd83-b92a5b2d8531"
      },
      "execution_count": 4,
      "outputs": [
        {
          "output_type": "stream",
          "name": "stdout",
          "text": [
            "A is a magic number! :)\n"
          ]
        }
      ]
    },
    {
      "cell_type": "markdown",
      "source": [
        "## **Graded**"
      ],
      "metadata": {
        "id": "BmyvCwY7I9iz"
      }
    },
    {
      "cell_type": "code",
      "source": [
        "# Reference:\n",
        "# Geeks 4 geeks for meshgrid examples:  https://www.geeksforgeeks.org/numpy-meshgrid-function/\n",
        "# Broadcasting examples: https://numpy.org/doc/stable/user/basics.broadcasting.html\n",
        "\n",
        "def solvefrob(coefs, b):\n",
        "  '''\n",
        "  This functions shows the solutions to the Forbes equation using broadcasting.\n",
        "\n",
        "  Input:\n",
        "    coefs: list() – coefficients a_i as a list\n",
        "    b: int – right hand side, answer to equation.\n",
        "  Output:\n",
        "    sols: list() – A list of the possible coefficients that are solutions to the equation\n",
        "  '''\n",
        "\n",
        "  coef_size = len(coefs)\n",
        "\n",
        "  x_range = [np.arange(b + 1)] * coef_size # Range for possible vlaues of coefficients\n",
        "  all_sols = np.array(np.meshgrid(*x_range)).T.reshape(-1, coef_size) # Create a matrix  for all possible solutions\n",
        "\n",
        "  coefs_array = np.array(coefs) # convert coefficients to a numpy array for broadcasting\n",
        "  sols = all_sols[np.dot(all_sols, coefs_array) == b] # Broadcasting np.dot between possible solutions and coefficients\n",
        "\n",
        "  return sols\n",
        "\n",
        "\n",
        "valid = solvefrob([1, 2, 3, 5], 10) # Test the solution\n",
        "print(valid)\n"
      ],
      "metadata": {
        "id": "yX-jD9NX-6rE",
        "colab": {
          "base_uri": "https://localhost:8080/"
        },
        "outputId": "cc805215-d415-4459-abdf-bdff806638bf"
      },
      "execution_count": 5,
      "outputs": [
        {
          "output_type": "stream",
          "name": "stdout",
          "text": [
            "[[ 0  5  0  0]\n",
            " [ 2  4  0  0]\n",
            " [ 4  3  0  0]\n",
            " [ 6  2  0  0]\n",
            " [ 8  1  0  0]\n",
            " [10  0  0  0]\n",
            " [ 1  3  1  0]\n",
            " [ 3  2  1  0]\n",
            " [ 5  1  1  0]\n",
            " [ 7  0  1  0]\n",
            " [ 0  2  2  0]\n",
            " [ 2  1  2  0]\n",
            " [ 4  0  2  0]\n",
            " [ 1  0  3  0]\n",
            " [ 1  2  0  1]\n",
            " [ 3  1  0  1]\n",
            " [ 5  0  0  1]\n",
            " [ 0  1  1  1]\n",
            " [ 2  0  1  1]\n",
            " [ 0  0  0  2]]\n"
          ]
        }
      ]
    },
    {
      "cell_type": "code",
      "source": [],
      "metadata": {
        "id": "4k6lAbZUFTbR"
      },
      "execution_count": 5,
      "outputs": []
    }
  ]
}